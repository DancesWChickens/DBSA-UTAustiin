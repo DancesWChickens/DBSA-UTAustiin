{
  "cells": [
    {
      "cell_type": "markdown",
      "metadata": {
        "id": "view-in-github",
        "colab_type": "text"
      },
      "source": [
        "<a href=\"https://colab.research.google.com/github/DancesWChickens/DBSA-UTAustiin/blob/main/PYF_Project_LearnerNotebook_FullCode_Final.ipynb\" target=\"_parent\"><img src=\"https://colab.research.google.com/assets/colab-badge.svg\" alt=\"Open In Colab\"/></a>"
      ]
    },
    {
      "cell_type": "markdown",
      "metadata": {
        "id": "Gc8x8QimJY_H"
      },
      "source": [
        "# Project Python Foundations: FoodHub Data Analysis"
      ]
    },
    {
      "cell_type": "markdown",
      "metadata": {
        "id": "NqikjkWwJY_L"
      },
      "source": [
        "### Context\n",
        "\n",
        "The number of restaurants in New York is increasing day by day. Lots of students and busy professionals rely on those restaurants due to their hectic lifestyles. Online food delivery service is a great option for them. It provides them with good food from their favorite restaurants. A food aggregator company FoodHub offers access to multiple restaurants through a single smartphone app.\n",
        "\n",
        "The app allows the restaurants to receive a direct online order from a customer. The app assigns a delivery person from the company to pick up the order after it is confirmed by the restaurant. The delivery person then uses the map to reach the restaurant and waits for the food package. Once the food package is handed over to the delivery person, he/she confirms the pick-up in the app and travels to the customer's location to deliver the food. The delivery person confirms the drop-off in the app after delivering the food package to the customer. The customer can rate the order in the app. The food aggregator earns money by collecting a fixed margin of the delivery order from the restaurants.\n",
        "\n",
        "### Objective\n",
        "\n",
        "The food aggregator company has stored the data of the different orders made by the registered customers in their online portal. They want to analyze the data to get a fair idea about the demand of different restaurants which will help them in enhancing their customer experience. Suppose you are hired as a Data Scientist in this company and the Data Science team has shared some of the key questions that need to be answered. Perform the data analysis to find answers to these questions that will help the company to improve the business.\n",
        "\n",
        "### Data Description\n",
        "\n",
        "The data contains the different data related to a food order. The detailed data dictionary is given below.\n",
        "\n",
        "### Data Dictionary\n",
        "\n",
        "* order_id: Unique ID of the order\n",
        "* customer_id: ID of the customer who ordered the food\n",
        "* restaurant_name: Name of the restaurant\n",
        "* cuisine_type: Cuisine ordered by the customer\n",
        "* cost_of_the_order: Cost of the order\n",
        "* day_of_the_week: Indicates whether the order is placed on a weekday or weekend (The weekday is from Monday to Friday and the weekend is Saturday and Sunday)\n",
        "* rating: Rating given by the customer out of 5\n",
        "* food_preparation_time: Time (in minutes) taken by the restaurant to prepare the food. This is calculated by taking the difference between the timestamps of the restaurant's order confirmation and the delivery person's pick-up confirmation.\n",
        "* delivery_time: Time (in minutes) taken by the delivery person to deliver the food package. This is calculated by taking the difference between the timestamps of the delivery person's pick-up confirmation and drop-off information"
      ]
    },
    {
      "cell_type": "markdown",
      "metadata": {
        "id": "cEtNUxNAJY_M"
      },
      "source": [
        "### Let us start by importing the required libraries"
      ]
    },
    {
      "cell_type": "code",
      "execution_count": null,
      "metadata": {
        "id": "_aG-ZzhYXs_1",
        "collapsed": true
      },
      "outputs": [],
      "source": [
        "# Installing the libraries with the specified version.\n",
        "#!pip install numpy==1.25.2 pandas==1.5.3 matplotlib==3.7.1 seaborn==0.13.1 -q --user\n",
        "#!pip install nbconvert"
      ]
    },
    {
      "cell_type": "markdown",
      "metadata": {
        "id": "7ueES9WOzI5X"
      },
      "source": [
        "**Note**: *After running the above cell, kindly restart the notebook kernel and run all cells sequentially from the start again.*"
      ]
    },
    {
      "cell_type": "code",
      "execution_count": null,
      "metadata": {
        "id": "u6PlpJAPJY_N"
      },
      "outputs": [],
      "source": [
        "# import libraries for data manipulation\n",
        "import numpy as np\n",
        "import pandas as pd\n",
        "\n",
        "# import libraries for data visualization\n",
        "import matplotlib.pyplot as plt\n",
        "import seaborn as sns"
      ]
    },
    {
      "cell_type": "markdown",
      "metadata": {
        "id": "AdracY0HJY_O"
      },
      "source": [
        "### Understanding the structure of the data"
      ]
    },
    {
      "cell_type": "code",
      "execution_count": null,
      "metadata": {
        "id": "WBh2ZGB9kFhU",
        "colab": {
          "base_uri": "https://localhost:8080/"
        },
        "outputId": "3f033de7-8b5b-4d44-bc5a-c3fa455896f4"
      },
      "outputs": [
        {
          "output_type": "stream",
          "name": "stdout",
          "text": [
            "Drive already mounted at /content/drive; to attempt to forcibly remount, call drive.mount(\"/content/drive\", force_remount=True).\n"
          ]
        }
      ],
      "source": [
        "# uncomment and run the following lines for Google Colab\n",
        "from google.colab import drive\n",
        "drive.mount('/content/drive')"
      ]
    },
    {
      "cell_type": "code",
      "source": [
        "%cd /content/drive/MyDrive/Colab\\ Notebooks"
      ],
      "metadata": {
        "colab": {
          "base_uri": "https://localhost:8080/"
        },
        "id": "QulJJs94_2_z",
        "outputId": "e7210ccf-a469-4645-90be-60939102fe06"
      },
      "execution_count": null,
      "outputs": [
        {
          "output_type": "stream",
          "name": "stdout",
          "text": [
            "/content/drive/MyDrive/Colab Notebooks\n"
          ]
        }
      ]
    },
    {
      "cell_type": "code",
      "source": [
        "# convert ipnb to HTML file\n",
        "!jupyter nbconvert PYF_Project_LearnerNotebook_FullCode_Final.ipynb --to html"
      ],
      "metadata": {
        "colab": {
          "base_uri": "https://localhost:8080/"
        },
        "id": "TlW9dN_--vnw",
        "outputId": "76cf2fd8-9962-46a1-fba7-cb7589cd5739"
      },
      "execution_count": null,
      "outputs": [
        {
          "output_type": "stream",
          "name": "stdout",
          "text": [
            "[NbConvertApp] Converting notebook PYF_Project_LearnerNotebook_FullCode_Final.ipynb to html\n",
            "[NbConvertApp] Writing 1072382 bytes to PYF_Project_LearnerNotebook_FullCode_Final.html\n"
          ]
        }
      ]
    },
    {
      "cell_type": "code",
      "execution_count": null,
      "metadata": {
        "id": "GF01IZDbJY_O",
        "scrolled": true
      },
      "outputs": [],
      "source": [
        "\n",
        "# Write your code here to read the data\n",
        "data = pd.read_csv('/content/drive/My Drive/UTAustinDataScience/datafiles/foodhub_order.csv')"
      ]
    },
    {
      "cell_type": "code",
      "execution_count": null,
      "metadata": {
        "id": "KyejXX4isqKQ",
        "colab": {
          "base_uri": "https://localhost:8080/",
          "height": 206
        },
        "outputId": "5332053c-0b56-4a31-d925-dcd1c714722c"
      },
      "outputs": [
        {
          "output_type": "execute_result",
          "data": {
            "text/plain": [
              "   order_id  customer_id            restaurant_name cuisine_type  \\\n",
              "0   1477147       337525                    Hangawi       Korean   \n",
              "1   1477685       358141  Blue Ribbon Sushi Izakaya     Japanese   \n",
              "2   1477070        66393                Cafe Habana      Mexican   \n",
              "3   1477334       106968  Blue Ribbon Fried Chicken     American   \n",
              "4   1478249        76942           Dirty Bird to Go     American   \n",
              "\n",
              "   cost_of_the_order day_of_the_week     rating  food_preparation_time  \\\n",
              "0              30.75         Weekend  Not given                     25   \n",
              "1              12.08         Weekend  Not given                     25   \n",
              "2              12.23         Weekday          5                     23   \n",
              "3              29.20         Weekend          3                     25   \n",
              "4              11.59         Weekday          4                     25   \n",
              "\n",
              "   delivery_time  \n",
              "0             20  \n",
              "1             23  \n",
              "2             28  \n",
              "3             15  \n",
              "4             24  "
            ],
            "text/html": [
              "\n",
              "  <div id=\"df-fc947e4c-cc95-4fea-8b33-84300dc0adfd\" class=\"colab-df-container\">\n",
              "    <div>\n",
              "<style scoped>\n",
              "    .dataframe tbody tr th:only-of-type {\n",
              "        vertical-align: middle;\n",
              "    }\n",
              "\n",
              "    .dataframe tbody tr th {\n",
              "        vertical-align: top;\n",
              "    }\n",
              "\n",
              "    .dataframe thead th {\n",
              "        text-align: right;\n",
              "    }\n",
              "</style>\n",
              "<table border=\"1\" class=\"dataframe\">\n",
              "  <thead>\n",
              "    <tr style=\"text-align: right;\">\n",
              "      <th></th>\n",
              "      <th>order_id</th>\n",
              "      <th>customer_id</th>\n",
              "      <th>restaurant_name</th>\n",
              "      <th>cuisine_type</th>\n",
              "      <th>cost_of_the_order</th>\n",
              "      <th>day_of_the_week</th>\n",
              "      <th>rating</th>\n",
              "      <th>food_preparation_time</th>\n",
              "      <th>delivery_time</th>\n",
              "    </tr>\n",
              "  </thead>\n",
              "  <tbody>\n",
              "    <tr>\n",
              "      <th>0</th>\n",
              "      <td>1477147</td>\n",
              "      <td>337525</td>\n",
              "      <td>Hangawi</td>\n",
              "      <td>Korean</td>\n",
              "      <td>30.75</td>\n",
              "      <td>Weekend</td>\n",
              "      <td>Not given</td>\n",
              "      <td>25</td>\n",
              "      <td>20</td>\n",
              "    </tr>\n",
              "    <tr>\n",
              "      <th>1</th>\n",
              "      <td>1477685</td>\n",
              "      <td>358141</td>\n",
              "      <td>Blue Ribbon Sushi Izakaya</td>\n",
              "      <td>Japanese</td>\n",
              "      <td>12.08</td>\n",
              "      <td>Weekend</td>\n",
              "      <td>Not given</td>\n",
              "      <td>25</td>\n",
              "      <td>23</td>\n",
              "    </tr>\n",
              "    <tr>\n",
              "      <th>2</th>\n",
              "      <td>1477070</td>\n",
              "      <td>66393</td>\n",
              "      <td>Cafe Habana</td>\n",
              "      <td>Mexican</td>\n",
              "      <td>12.23</td>\n",
              "      <td>Weekday</td>\n",
              "      <td>5</td>\n",
              "      <td>23</td>\n",
              "      <td>28</td>\n",
              "    </tr>\n",
              "    <tr>\n",
              "      <th>3</th>\n",
              "      <td>1477334</td>\n",
              "      <td>106968</td>\n",
              "      <td>Blue Ribbon Fried Chicken</td>\n",
              "      <td>American</td>\n",
              "      <td>29.20</td>\n",
              "      <td>Weekend</td>\n",
              "      <td>3</td>\n",
              "      <td>25</td>\n",
              "      <td>15</td>\n",
              "    </tr>\n",
              "    <tr>\n",
              "      <th>4</th>\n",
              "      <td>1478249</td>\n",
              "      <td>76942</td>\n",
              "      <td>Dirty Bird to Go</td>\n",
              "      <td>American</td>\n",
              "      <td>11.59</td>\n",
              "      <td>Weekday</td>\n",
              "      <td>4</td>\n",
              "      <td>25</td>\n",
              "      <td>24</td>\n",
              "    </tr>\n",
              "  </tbody>\n",
              "</table>\n",
              "</div>\n",
              "    <div class=\"colab-df-buttons\">\n",
              "\n",
              "  <div class=\"colab-df-container\">\n",
              "    <button class=\"colab-df-convert\" onclick=\"convertToInteractive('df-fc947e4c-cc95-4fea-8b33-84300dc0adfd')\"\n",
              "            title=\"Convert this dataframe to an interactive table.\"\n",
              "            style=\"display:none;\">\n",
              "\n",
              "  <svg xmlns=\"http://www.w3.org/2000/svg\" height=\"24px\" viewBox=\"0 -960 960 960\">\n",
              "    <path d=\"M120-120v-720h720v720H120Zm60-500h600v-160H180v160Zm220 220h160v-160H400v160Zm0 220h160v-160H400v160ZM180-400h160v-160H180v160Zm440 0h160v-160H620v160ZM180-180h160v-160H180v160Zm440 0h160v-160H620v160Z\"/>\n",
              "  </svg>\n",
              "    </button>\n",
              "\n",
              "  <style>\n",
              "    .colab-df-container {\n",
              "      display:flex;\n",
              "      gap: 12px;\n",
              "    }\n",
              "\n",
              "    .colab-df-convert {\n",
              "      background-color: #E8F0FE;\n",
              "      border: none;\n",
              "      border-radius: 50%;\n",
              "      cursor: pointer;\n",
              "      display: none;\n",
              "      fill: #1967D2;\n",
              "      height: 32px;\n",
              "      padding: 0 0 0 0;\n",
              "      width: 32px;\n",
              "    }\n",
              "\n",
              "    .colab-df-convert:hover {\n",
              "      background-color: #E2EBFA;\n",
              "      box-shadow: 0px 1px 2px rgba(60, 64, 67, 0.3), 0px 1px 3px 1px rgba(60, 64, 67, 0.15);\n",
              "      fill: #174EA6;\n",
              "    }\n",
              "\n",
              "    .colab-df-buttons div {\n",
              "      margin-bottom: 4px;\n",
              "    }\n",
              "\n",
              "    [theme=dark] .colab-df-convert {\n",
              "      background-color: #3B4455;\n",
              "      fill: #D2E3FC;\n",
              "    }\n",
              "\n",
              "    [theme=dark] .colab-df-convert:hover {\n",
              "      background-color: #434B5C;\n",
              "      box-shadow: 0px 1px 3px 1px rgba(0, 0, 0, 0.15);\n",
              "      filter: drop-shadow(0px 1px 2px rgba(0, 0, 0, 0.3));\n",
              "      fill: #FFFFFF;\n",
              "    }\n",
              "  </style>\n",
              "\n",
              "    <script>\n",
              "      const buttonEl =\n",
              "        document.querySelector('#df-fc947e4c-cc95-4fea-8b33-84300dc0adfd button.colab-df-convert');\n",
              "      buttonEl.style.display =\n",
              "        google.colab.kernel.accessAllowed ? 'block' : 'none';\n",
              "\n",
              "      async function convertToInteractive(key) {\n",
              "        const element = document.querySelector('#df-fc947e4c-cc95-4fea-8b33-84300dc0adfd');\n",
              "        const dataTable =\n",
              "          await google.colab.kernel.invokeFunction('convertToInteractive',\n",
              "                                                    [key], {});\n",
              "        if (!dataTable) return;\n",
              "\n",
              "        const docLinkHtml = 'Like what you see? Visit the ' +\n",
              "          '<a target=\"_blank\" href=https://colab.research.google.com/notebooks/data_table.ipynb>data table notebook</a>'\n",
              "          + ' to learn more about interactive tables.';\n",
              "        element.innerHTML = '';\n",
              "        dataTable['output_type'] = 'display_data';\n",
              "        await google.colab.output.renderOutput(dataTable, element);\n",
              "        const docLink = document.createElement('div');\n",
              "        docLink.innerHTML = docLinkHtml;\n",
              "        element.appendChild(docLink);\n",
              "      }\n",
              "    </script>\n",
              "  </div>\n",
              "\n",
              "\n",
              "<div id=\"df-4a15daf8-a4a9-45b1-a0c0-70b526bbf563\">\n",
              "  <button class=\"colab-df-quickchart\" onclick=\"quickchart('df-4a15daf8-a4a9-45b1-a0c0-70b526bbf563')\"\n",
              "            title=\"Suggest charts\"\n",
              "            style=\"display:none;\">\n",
              "\n",
              "<svg xmlns=\"http://www.w3.org/2000/svg\" height=\"24px\"viewBox=\"0 0 24 24\"\n",
              "     width=\"24px\">\n",
              "    <g>\n",
              "        <path d=\"M19 3H5c-1.1 0-2 .9-2 2v14c0 1.1.9 2 2 2h14c1.1 0 2-.9 2-2V5c0-1.1-.9-2-2-2zM9 17H7v-7h2v7zm4 0h-2V7h2v10zm4 0h-2v-4h2v4z\"/>\n",
              "    </g>\n",
              "</svg>\n",
              "  </button>\n",
              "\n",
              "<style>\n",
              "  .colab-df-quickchart {\n",
              "      --bg-color: #E8F0FE;\n",
              "      --fill-color: #1967D2;\n",
              "      --hover-bg-color: #E2EBFA;\n",
              "      --hover-fill-color: #174EA6;\n",
              "      --disabled-fill-color: #AAA;\n",
              "      --disabled-bg-color: #DDD;\n",
              "  }\n",
              "\n",
              "  [theme=dark] .colab-df-quickchart {\n",
              "      --bg-color: #3B4455;\n",
              "      --fill-color: #D2E3FC;\n",
              "      --hover-bg-color: #434B5C;\n",
              "      --hover-fill-color: #FFFFFF;\n",
              "      --disabled-bg-color: #3B4455;\n",
              "      --disabled-fill-color: #666;\n",
              "  }\n",
              "\n",
              "  .colab-df-quickchart {\n",
              "    background-color: var(--bg-color);\n",
              "    border: none;\n",
              "    border-radius: 50%;\n",
              "    cursor: pointer;\n",
              "    display: none;\n",
              "    fill: var(--fill-color);\n",
              "    height: 32px;\n",
              "    padding: 0;\n",
              "    width: 32px;\n",
              "  }\n",
              "\n",
              "  .colab-df-quickchart:hover {\n",
              "    background-color: var(--hover-bg-color);\n",
              "    box-shadow: 0 1px 2px rgba(60, 64, 67, 0.3), 0 1px 3px 1px rgba(60, 64, 67, 0.15);\n",
              "    fill: var(--button-hover-fill-color);\n",
              "  }\n",
              "\n",
              "  .colab-df-quickchart-complete:disabled,\n",
              "  .colab-df-quickchart-complete:disabled:hover {\n",
              "    background-color: var(--disabled-bg-color);\n",
              "    fill: var(--disabled-fill-color);\n",
              "    box-shadow: none;\n",
              "  }\n",
              "\n",
              "  .colab-df-spinner {\n",
              "    border: 2px solid var(--fill-color);\n",
              "    border-color: transparent;\n",
              "    border-bottom-color: var(--fill-color);\n",
              "    animation:\n",
              "      spin 1s steps(1) infinite;\n",
              "  }\n",
              "\n",
              "  @keyframes spin {\n",
              "    0% {\n",
              "      border-color: transparent;\n",
              "      border-bottom-color: var(--fill-color);\n",
              "      border-left-color: var(--fill-color);\n",
              "    }\n",
              "    20% {\n",
              "      border-color: transparent;\n",
              "      border-left-color: var(--fill-color);\n",
              "      border-top-color: var(--fill-color);\n",
              "    }\n",
              "    30% {\n",
              "      border-color: transparent;\n",
              "      border-left-color: var(--fill-color);\n",
              "      border-top-color: var(--fill-color);\n",
              "      border-right-color: var(--fill-color);\n",
              "    }\n",
              "    40% {\n",
              "      border-color: transparent;\n",
              "      border-right-color: var(--fill-color);\n",
              "      border-top-color: var(--fill-color);\n",
              "    }\n",
              "    60% {\n",
              "      border-color: transparent;\n",
              "      border-right-color: var(--fill-color);\n",
              "    }\n",
              "    80% {\n",
              "      border-color: transparent;\n",
              "      border-right-color: var(--fill-color);\n",
              "      border-bottom-color: var(--fill-color);\n",
              "    }\n",
              "    90% {\n",
              "      border-color: transparent;\n",
              "      border-bottom-color: var(--fill-color);\n",
              "    }\n",
              "  }\n",
              "</style>\n",
              "\n",
              "  <script>\n",
              "    async function quickchart(key) {\n",
              "      const quickchartButtonEl =\n",
              "        document.querySelector('#' + key + ' button');\n",
              "      quickchartButtonEl.disabled = true;  // To prevent multiple clicks.\n",
              "      quickchartButtonEl.classList.add('colab-df-spinner');\n",
              "      try {\n",
              "        const charts = await google.colab.kernel.invokeFunction(\n",
              "            'suggestCharts', [key], {});\n",
              "      } catch (error) {\n",
              "        console.error('Error during call to suggestCharts:', error);\n",
              "      }\n",
              "      quickchartButtonEl.classList.remove('colab-df-spinner');\n",
              "      quickchartButtonEl.classList.add('colab-df-quickchart-complete');\n",
              "    }\n",
              "    (() => {\n",
              "      let quickchartButtonEl =\n",
              "        document.querySelector('#df-4a15daf8-a4a9-45b1-a0c0-70b526bbf563 button');\n",
              "      quickchartButtonEl.style.display =\n",
              "        google.colab.kernel.accessAllowed ? 'block' : 'none';\n",
              "    })();\n",
              "  </script>\n",
              "</div>\n",
              "\n",
              "    </div>\n",
              "  </div>\n"
            ],
            "application/vnd.google.colaboratory.intrinsic+json": {
              "type": "dataframe",
              "variable_name": "data",
              "summary": "{\n  \"name\": \"data\",\n  \"rows\": 1898,\n  \"fields\": [\n    {\n      \"column\": \"order_id\",\n      \"properties\": {\n        \"dtype\": \"number\",\n        \"std\": 548,\n        \"min\": 1476547,\n        \"max\": 1478444,\n        \"num_unique_values\": 1898,\n        \"samples\": [\n          1477722,\n          1478319,\n          1477650\n        ],\n        \"semantic_type\": \"\",\n        \"description\": \"\"\n      }\n    },\n    {\n      \"column\": \"customer_id\",\n      \"properties\": {\n        \"dtype\": \"number\",\n        \"std\": 113698,\n        \"min\": 1311,\n        \"max\": 405334,\n        \"num_unique_values\": 1200,\n        \"samples\": [\n          351329,\n          49987,\n          345899\n        ],\n        \"semantic_type\": \"\",\n        \"description\": \"\"\n      }\n    },\n    {\n      \"column\": \"restaurant_name\",\n      \"properties\": {\n        \"dtype\": \"category\",\n        \"num_unique_values\": 178,\n        \"samples\": [\n          \"Tortaria\",\n          \"Osteria Morini\",\n          \"Philippe Chow\"\n        ],\n        \"semantic_type\": \"\",\n        \"description\": \"\"\n      }\n    },\n    {\n      \"column\": \"cuisine_type\",\n      \"properties\": {\n        \"dtype\": \"category\",\n        \"num_unique_values\": 14,\n        \"samples\": [\n          \"Thai\",\n          \"French\",\n          \"Korean\"\n        ],\n        \"semantic_type\": \"\",\n        \"description\": \"\"\n      }\n    },\n    {\n      \"column\": \"cost_of_the_order\",\n      \"properties\": {\n        \"dtype\": \"number\",\n        \"std\": 7.48381211004957,\n        \"min\": 4.47,\n        \"max\": 35.41,\n        \"num_unique_values\": 312,\n        \"samples\": [\n          21.29,\n          7.18,\n          13.34\n        ],\n        \"semantic_type\": \"\",\n        \"description\": \"\"\n      }\n    },\n    {\n      \"column\": \"day_of_the_week\",\n      \"properties\": {\n        \"dtype\": \"category\",\n        \"num_unique_values\": 2,\n        \"samples\": [\n          \"Weekday\",\n          \"Weekend\"\n        ],\n        \"semantic_type\": \"\",\n        \"description\": \"\"\n      }\n    },\n    {\n      \"column\": \"rating\",\n      \"properties\": {\n        \"dtype\": \"category\",\n        \"num_unique_values\": 4,\n        \"samples\": [\n          \"5\",\n          \"4\"\n        ],\n        \"semantic_type\": \"\",\n        \"description\": \"\"\n      }\n    },\n    {\n      \"column\": \"food_preparation_time\",\n      \"properties\": {\n        \"dtype\": \"number\",\n        \"std\": 4,\n        \"min\": 20,\n        \"max\": 35,\n        \"num_unique_values\": 16,\n        \"samples\": [\n          25,\n          23\n        ],\n        \"semantic_type\": \"\",\n        \"description\": \"\"\n      }\n    },\n    {\n      \"column\": \"delivery_time\",\n      \"properties\": {\n        \"dtype\": \"number\",\n        \"std\": 4,\n        \"min\": 15,\n        \"max\": 33,\n        \"num_unique_values\": 19,\n        \"samples\": [\n          20,\n          21\n        ],\n        \"semantic_type\": \"\",\n        \"description\": \"\"\n      }\n    }\n  ]\n}"
            }
          },
          "metadata": {},
          "execution_count": 182
        }
      ],
      "source": [
        "# Write your code here to view the first 5 rows\n",
        "data.head()"
      ]
    },
    {
      "cell_type": "markdown",
      "metadata": {
        "id": "c3kenV4vJY_Q"
      },
      "source": [
        "### **Question 1:** How many rows and columns are present in the data? [0.5 mark]"
      ]
    },
    {
      "cell_type": "code",
      "execution_count": null,
      "metadata": {
        "id": "Yvz5i-PhJY_Q",
        "colab": {
          "base_uri": "https://localhost:8080/"
        },
        "outputId": "f8c7e280-cb41-4ca9-98f9-dcc8a717d189"
      },
      "outputs": [
        {
          "output_type": "stream",
          "name": "stdout",
          "text": [
            "There are 1898 rows and 9 columns.\n"
          ]
        }
      ],
      "source": [
        "# Write your code here\n",
        "print(\"There are\", data.shape[0], 'rows and', data.shape[1], \"columns.\")"
      ]
    },
    {
      "cell_type": "markdown",
      "metadata": {
        "id": "UsTNy3unJY_R"
      },
      "source": [
        "#### **Observations:**\n",
        "There are 1898 rows and 9 columns."
      ]
    },
    {
      "cell_type": "markdown",
      "metadata": {
        "id": "jRXakVrUJY_R"
      },
      "source": [
        "### **Question 2:** What are the datatypes of the different columns in the dataset? (The info() function can be used) [0.5 mark]"
      ]
    },
    {
      "cell_type": "code",
      "execution_count": null,
      "metadata": {
        "colab": {
          "base_uri": "https://localhost:8080/"
        },
        "id": "Kp70Z0BNJY_R",
        "outputId": "1aefb357-46c5-4f6e-d872-559f2f943ced"
      },
      "outputs": [
        {
          "output_type": "stream",
          "name": "stdout",
          "text": [
            "<class 'pandas.core.frame.DataFrame'>\n",
            "RangeIndex: 1898 entries, 0 to 1897\n",
            "Data columns (total 9 columns):\n",
            " #   Column                 Non-Null Count  Dtype  \n",
            "---  ------                 --------------  -----  \n",
            " 0   order_id               1898 non-null   int64  \n",
            " 1   customer_id            1898 non-null   int64  \n",
            " 2   restaurant_name        1898 non-null   object \n",
            " 3   cuisine_type           1898 non-null   object \n",
            " 4   cost_of_the_order      1898 non-null   float64\n",
            " 5   day_of_the_week        1898 non-null   object \n",
            " 6   rating                 1898 non-null   object \n",
            " 7   food_preparation_time  1898 non-null   int64  \n",
            " 8   delivery_time          1898 non-null   int64  \n",
            "dtypes: float64(1), int64(4), object(4)\n",
            "memory usage: 133.6+ KB\n"
          ]
        }
      ],
      "source": [
        "# Write your code here\n",
        "data.info()"
      ]
    },
    {
      "cell_type": "code",
      "execution_count": null,
      "metadata": {
        "colab": {
          "base_uri": "https://localhost:8080/"
        },
        "id": "MHAd-RstHLfD",
        "outputId": "421e81d4-c1df-4650-c280-f6f8e1704c18",
        "collapsed": true
      },
      "outputs": [
        {
          "output_type": "execute_result",
          "data": {
            "text/plain": [
              "array(['Hangawi', 'Blue Ribbon Sushi Izakaya', 'Cafe Habana',\n",
              "       'Blue Ribbon Fried Chicken', 'Dirty Bird to Go',\n",
              "       'Tamarind TriBeCa', 'The Meatball Shop', 'Barbounia',\n",
              "       'Anjappar Chettinad', 'Bukhara Grill',\n",
              "       'Big Wong Restaurant \\x8c_¤¾Ñ¼', 'Empanada Mama (closed)', 'Pylos',\n",
              "       \"Lucky's Famous Burgers\", 'Shake Shack', 'Sushi of Gari',\n",
              "       'RedFarm Hudson', 'Blue Ribbon Sushi',\n",
              "       'Five Guys Burgers and Fries', 'Tortaria', 'Cafe Mogador',\n",
              "       'Otto Enoteca Pizzeria', 'Vezzo Thin Crust Pizza',\n",
              "       'Sushi of Gari 46', 'The Kati Roll Company', 'Klong',\n",
              "       '5 Napkin Burger', 'TAO', 'Parm', 'Sushi Samba',\n",
              "       'Haru Gramercy Park', 'Chipotle Mexican Grill $1.99 Delivery',\n",
              "       'RedFarm Broadway', 'Cafeteria', 'DuMont Burger',\n",
              "       \"Sarabeth's East\", 'Hill Country Fried Chicken', 'Bistango',\n",
              "       \"Jack's Wife Freda\", \"Mamoun's Falafel\", 'Prosperity Dumpling',\n",
              "       'Blue Ribbon Sushi Bar & Grill', 'Westville Hudson',\n",
              "       'Blue Ribbon Brooklyn', 'Nobu Next Door', 'Osteria Morini',\n",
              "       'Haandi', 'Benihana', 'Han Dynasty', 'Chote Nawab',\n",
              "       'Mission Cantina', \"Xi'an Famous Foods\", 'Rubirosa',\n",
              "       \"Joe's Shanghai \\x8e_À\\x8eü£¾÷´\", 'Bareburger', 'The Odeon',\n",
              "       'Pongsri Thai', 'Yama Japanese Restaurant', 'Momoya',\n",
              "       'Balthazar Boulangerie', 'CafÌ© China', 'Boqueria',\n",
              "       'Song Thai Restaurant & Bar', 'Five Leaves',\n",
              "       'Pinto Nouveau Thai Bistro', \"Amy Ruth's\", 'Pepe Giallo',\n",
              "       'indikitch', 'Yama 49', 'Piccolo Angolo', 'Pepe Rosso To Go',\n",
              "       \"L'Express\", 'Amma', 'Delicatessen', \"S'MAC\",\n",
              "       \"Vanessa's Dumplings\", 'Bhatti Indian Grill', 'Taro Sushi',\n",
              "       'Donburi-ya', 'Hatsuhana', 'Samurai Mama', 'Waverly Diner',\n",
              "       'Tarallucci e Vino Restaurant', \"P.J. Clarke's\",\n",
              "       'Lantern Thai Kitchen', 'ilili Restaurant', 'The Smile',\n",
              "       \"Vanessa's Dumpling House\", \"Bubby's \", 'Woorijip',\n",
              "       'Dirty Bird To Go (archived)', 'Haveli Indian Restaurant',\n",
              "       'Dos Caminos', 'da Umberto', 'Sushi of Gari Tribeca',\n",
              "       'Burger Joint', 'Room Service', \"Sarabeth's Restaurant\",\n",
              "       'Xe May Sandwich Shop', 'Hibino', 'Mira Sushi', 'Melt Shop',\n",
              "       'J. G. Melon', 'Hummus Place', 'Saravanaa Bhavan',\n",
              "       'Friend of a Farmer', 'The Loop', 'Balade', 'Posto',\n",
              "       'Terakawa Ramen', 'Kambi Ramen House', 'Wo Hop Restaurant',\n",
              "       'Spice Thai', \"Dickson's Farmstand Meats\",\n",
              "       'UVA Wine Bar & Restaurant', 'Serafina Fabulous Pizza',\n",
              "       'Gaia Italian Cafe', 'Chola Eclectic Indian Cuisine',\n",
              "       'Hot Kitchen', 'Junoon', 'Ravagh Persian Grill', 'Rohm Thai',\n",
              "       'Dig Inn Seasonal Market', 'Olea', 'Cho Dang Gol',\n",
              "       'El Parador Cafe', 'Socarrat Paella Bar',\n",
              "       \"Don's Bogam BBQ & Wine Bar\", 'Alidoro', \"Tony's Di Napoli\",\n",
              "       'Cipriani Le Specialita', 'Sushi Choshi', 'Kanoyama', 'V-Nam Cafe',\n",
              "       'Zero Otto Nove', 'Dos Caminos Soho', 'Go! Go! Curry!',\n",
              "       'La Follia', 'Izakaya Ten', '12 Chairs', 'Philippe Chow',\n",
              "       'The MasalaWala', 'brgr', \"Carmine's\", 'Asuka Sushi', 'Aurora',\n",
              "       \"Sarabeth's\", 'Crema Restaurante', \"Big Daddy's\",\n",
              "       'Moonstruck on Second', 'Cafe de La Esquina', 'Olive Garden',\n",
              "       '67 Burger', 'Tres Carnes', \"Schnipper's Quality Kitchen\",\n",
              "       'Nha Trang One', 'Market Table', 'Galli Restaurant',\n",
              "       'Hampton Chutney Co.', 'Byblos Restaurant',\n",
              "       'Grand Sichuan International', 'Le Grainne Cafe', 'Il Bambino',\n",
              "       'Kori Restaurant and Bar', 'DespaÌ±a', 'Lamarca Pasta',\n",
              "       'Lucky Strike', \"Paul & Jimmy's\", 'Hunan Manor', \"Coppola's East\",\n",
              "       'Emporio', 'Wa Jeal', 'Le Zie 2000 Trattoria', 'Rye House',\n",
              "       \"Hiroko's Place\", 'Frank Restaurant', \"Sarabeth's West\",\n",
              "       \"'wichcraft\"], dtype=object)"
            ]
          },
          "metadata": {},
          "execution_count": 185
        }
      ],
      "source": [
        "data['restaurant_name'].unique()"
      ]
    },
    {
      "cell_type": "code",
      "execution_count": null,
      "metadata": {
        "colab": {
          "base_uri": "https://localhost:8080/"
        },
        "id": "XHTc8PpFx3JH",
        "outputId": "a1fa800b-839f-48b3-fdd6-30debce45abb"
      },
      "outputs": [
        {
          "output_type": "execute_result",
          "data": {
            "text/plain": [
              "array(['Korean', 'Japanese', 'Mexican', 'American', 'Indian', 'Italian',\n",
              "       'Mediterranean', 'Chinese', 'Middle Eastern', 'Thai', 'Southern',\n",
              "       'French', 'Spanish', 'Vietnamese'], dtype=object)"
            ]
          },
          "metadata": {},
          "execution_count": 186
        }
      ],
      "source": [
        "data['cuisine_type'].unique()"
      ]
    },
    {
      "cell_type": "code",
      "execution_count": null,
      "metadata": {
        "colab": {
          "base_uri": "https://localhost:8080/"
        },
        "id": "h1VsUAo4z9so",
        "outputId": "50384554-5e17-42cb-94bd-8407b21316df"
      },
      "outputs": [
        {
          "output_type": "execute_result",
          "data": {
            "text/plain": [
              "array(['Weekend', 'Weekday'], dtype=object)"
            ]
          },
          "metadata": {},
          "execution_count": 187
        }
      ],
      "source": [
        "data['day_of_the_week'].unique()"
      ]
    },
    {
      "cell_type": "code",
      "execution_count": null,
      "metadata": {
        "colab": {
          "base_uri": "https://localhost:8080/"
        },
        "id": "DA3QywVYz-LG",
        "outputId": "65766e2b-69a6-4ad2-d02d-886d14de93ad"
      },
      "outputs": [
        {
          "output_type": "execute_result",
          "data": {
            "text/plain": [
              "array(['Not given', '5', '3', '4'], dtype=object)"
            ]
          },
          "metadata": {},
          "execution_count": 188
        }
      ],
      "source": [
        "data['rating'].unique()"
      ]
    },
    {
      "cell_type": "markdown",
      "metadata": {
        "id": "WJes5GP2JY_S"
      },
      "source": [
        "#### **Observations:**\n",
        "There are 4 integer columns, one float column and 4 of dtype \"object.\"\n",
        "\n",
        "*   restaurant_name is being used to store strings and some of the restaurant names have what appear to be international characters.\n",
        "*   cuisine_type stores strings\n",
        "*   day_of_the_week contains two string values: \"Weekend\" and \"Weekday\"\n",
        "*   rating has a mix of string and numeric values: 'Not given', '5', '3', '4'\n",
        "*   order_id and customer_id need to be converted to non-numeric values.\n",
        "*   We will need to look at the volume of \"Not given\" ratings in future questions."
      ]
    },
    {
      "cell_type": "code",
      "execution_count": null,
      "metadata": {
        "id": "JjFoviTaOBvI"
      },
      "outputs": [],
      "source": [
        "#Converting order_id and customer_id to strings\n",
        "data['order_id'] = data[['order_id']].astype(str)\n",
        "data['customer_id'] = data[['customer_id']].astype(str)\n"
      ]
    },
    {
      "cell_type": "code",
      "execution_count": null,
      "metadata": {
        "colab": {
          "base_uri": "https://localhost:8080/"
        },
        "id": "iDbd01sURxxf",
        "outputId": "2558b2ef-27b3-4f73-e836-1a7616247298",
        "collapsed": true
      },
      "outputs": [
        {
          "output_type": "stream",
          "name": "stdout",
          "text": [
            "<class 'pandas.core.frame.DataFrame'>\n",
            "RangeIndex: 1898 entries, 0 to 1897\n",
            "Data columns (total 9 columns):\n",
            " #   Column                 Non-Null Count  Dtype  \n",
            "---  ------                 --------------  -----  \n",
            " 0   order_id               1898 non-null   object \n",
            " 1   customer_id            1898 non-null   object \n",
            " 2   restaurant_name        1898 non-null   object \n",
            " 3   cuisine_type           1898 non-null   object \n",
            " 4   cost_of_the_order      1898 non-null   float64\n",
            " 5   day_of_the_week        1898 non-null   object \n",
            " 6   rating                 1898 non-null   object \n",
            " 7   food_preparation_time  1898 non-null   int64  \n",
            " 8   delivery_time          1898 non-null   int64  \n",
            "dtypes: float64(1), int64(2), object(6)\n",
            "memory usage: 133.6+ KB\n"
          ]
        }
      ],
      "source": [
        "#checking that the conversion worked\n",
        "data.info()"
      ]
    },
    {
      "cell_type": "markdown",
      "metadata": {
        "id": "pF_92MN6JY_S"
      },
      "source": [
        "### **Question 3:** Are there any missing values in the data? If yes, treat them using an appropriate method. [1 mark]"
      ]
    },
    {
      "cell_type": "code",
      "execution_count": null,
      "metadata": {
        "colab": {
          "base_uri": "https://localhost:8080/"
        },
        "id": "Zth-RR1PJY_S",
        "outputId": "d5892790-edcf-478c-9b62-2baae0145aac"
      },
      "outputs": [
        {
          "output_type": "execute_result",
          "data": {
            "text/plain": [
              "order_id                 0\n",
              "customer_id              0\n",
              "restaurant_name          0\n",
              "cuisine_type             0\n",
              "cost_of_the_order        0\n",
              "day_of_the_week          0\n",
              "rating                   0\n",
              "food_preparation_time    0\n",
              "delivery_time            0\n",
              "dtype: int64"
            ]
          },
          "metadata": {},
          "execution_count": 191
        }
      ],
      "source": [
        "# Write your code here\n",
        "# get missing data by columns\n",
        "data.isnull().sum(axis=0)"
      ]
    },
    {
      "cell_type": "code",
      "source": [
        "data.isnull().values.sum()"
      ],
      "metadata": {
        "colab": {
          "base_uri": "https://localhost:8080/"
        },
        "id": "sul9lsYsjVwi",
        "outputId": "439b7ae0-bc18-4540-8b61-9ee7af140646"
      },
      "execution_count": null,
      "outputs": [
        {
          "output_type": "execute_result",
          "data": {
            "text/plain": [
              "0"
            ]
          },
          "metadata": {},
          "execution_count": 192
        }
      ]
    },
    {
      "cell_type": "code",
      "execution_count": null,
      "metadata": {
        "id": "JD_LuD8Y6LJC"
      },
      "outputs": [],
      "source": [
        "# reimporting the data with nan values. I don't want to drop the missing values\n",
        "# without understanding the impact.\n",
        "orderdata = pd.read_csv('/content/drive/My Drive/UTAustinDataScience/datafiles/foodhub_order.csv', na_values=\"Not given\")"
      ]
    },
    {
      "cell_type": "markdown",
      "metadata": {
        "id": "jDHT3vD1JY_S"
      },
      "source": [
        "#### **Observations:**\n",
        "There are no missing (null) values, but there are ratings marked as \"Not Given\" which indicates a missing rating value. To deal with this, I will create a copy of the dataframe with the \"Not Given\" values converted to NAN."
      ]
    },
    {
      "cell_type": "code",
      "execution_count": null,
      "metadata": {
        "id": "cUaO4HBV68Yt"
      },
      "outputs": [],
      "source": [
        "#repeating the data conversions we did before on the copied dataframe\n",
        "orderdata['order_id'] = orderdata[['order_id']].astype(str)\n",
        "orderdata['customer_id'] = orderdata[['customer_id']].astype(str)\n"
      ]
    },
    {
      "cell_type": "code",
      "execution_count": null,
      "metadata": {
        "colab": {
          "base_uri": "https://localhost:8080/"
        },
        "id": "QMG9WTFP8Oc8",
        "outputId": "5552e2b5-760c-44db-9379-f4efe72a2a31"
      },
      "outputs": [
        {
          "output_type": "execute_result",
          "data": {
            "text/plain": [
              "dtype('float64')"
            ]
          },
          "metadata": {},
          "execution_count": 195
        }
      ],
      "source": [
        "orderdata['rating'].dtype\n",
        "# now that there are no more strings in the rating data without \"Not Given\" as a\n",
        "# value, the dataframe has automatically recognized this as a numeric (float)\n",
        "# datatype"
      ]
    },
    {
      "cell_type": "markdown",
      "metadata": {
        "id": "MnJo7MWrJY_S"
      },
      "source": [
        "### **Question 4:** Check the statistical summary of the data. What is the minimum, average, and maximum time it takes for food to be prepared once an order is placed? [2 marks]"
      ]
    },
    {
      "cell_type": "code",
      "execution_count": null,
      "metadata": {
        "colab": {
          "base_uri": "https://localhost:8080/",
          "height": 175
        },
        "id": "WprQBgOSJY_T",
        "outputId": "11365f77-c8fd-4db2-d83d-7b9636731d59"
      },
      "outputs": [
        {
          "output_type": "execute_result",
          "data": {
            "text/plain": [
              "                        count       mean       std    min    25%    50%  \\\n",
              "cost_of_the_order      1898.0  16.498851  7.483812   4.47  12.08  14.14   \n",
              "rating                 1162.0   4.344234  0.741478   3.00   4.00   5.00   \n",
              "food_preparation_time  1898.0  27.371970  4.632481  20.00  23.00  27.00   \n",
              "delivery_time          1898.0  24.161749  4.972637  15.00  20.00  25.00   \n",
              "\n",
              "                           75%    max  \n",
              "cost_of_the_order      22.2975  35.41  \n",
              "rating                  5.0000   5.00  \n",
              "food_preparation_time  31.0000  35.00  \n",
              "delivery_time          28.0000  33.00  "
            ],
            "text/html": [
              "\n",
              "  <div id=\"df-14f578ca-62a4-4744-a17c-ee46f671c937\" class=\"colab-df-container\">\n",
              "    <div>\n",
              "<style scoped>\n",
              "    .dataframe tbody tr th:only-of-type {\n",
              "        vertical-align: middle;\n",
              "    }\n",
              "\n",
              "    .dataframe tbody tr th {\n",
              "        vertical-align: top;\n",
              "    }\n",
              "\n",
              "    .dataframe thead th {\n",
              "        text-align: right;\n",
              "    }\n",
              "</style>\n",
              "<table border=\"1\" class=\"dataframe\">\n",
              "  <thead>\n",
              "    <tr style=\"text-align: right;\">\n",
              "      <th></th>\n",
              "      <th>count</th>\n",
              "      <th>mean</th>\n",
              "      <th>std</th>\n",
              "      <th>min</th>\n",
              "      <th>25%</th>\n",
              "      <th>50%</th>\n",
              "      <th>75%</th>\n",
              "      <th>max</th>\n",
              "    </tr>\n",
              "  </thead>\n",
              "  <tbody>\n",
              "    <tr>\n",
              "      <th>cost_of_the_order</th>\n",
              "      <td>1898.0</td>\n",
              "      <td>16.498851</td>\n",
              "      <td>7.483812</td>\n",
              "      <td>4.47</td>\n",
              "      <td>12.08</td>\n",
              "      <td>14.14</td>\n",
              "      <td>22.2975</td>\n",
              "      <td>35.41</td>\n",
              "    </tr>\n",
              "    <tr>\n",
              "      <th>rating</th>\n",
              "      <td>1162.0</td>\n",
              "      <td>4.344234</td>\n",
              "      <td>0.741478</td>\n",
              "      <td>3.00</td>\n",
              "      <td>4.00</td>\n",
              "      <td>5.00</td>\n",
              "      <td>5.0000</td>\n",
              "      <td>5.00</td>\n",
              "    </tr>\n",
              "    <tr>\n",
              "      <th>food_preparation_time</th>\n",
              "      <td>1898.0</td>\n",
              "      <td>27.371970</td>\n",
              "      <td>4.632481</td>\n",
              "      <td>20.00</td>\n",
              "      <td>23.00</td>\n",
              "      <td>27.00</td>\n",
              "      <td>31.0000</td>\n",
              "      <td>35.00</td>\n",
              "    </tr>\n",
              "    <tr>\n",
              "      <th>delivery_time</th>\n",
              "      <td>1898.0</td>\n",
              "      <td>24.161749</td>\n",
              "      <td>4.972637</td>\n",
              "      <td>15.00</td>\n",
              "      <td>20.00</td>\n",
              "      <td>25.00</td>\n",
              "      <td>28.0000</td>\n",
              "      <td>33.00</td>\n",
              "    </tr>\n",
              "  </tbody>\n",
              "</table>\n",
              "</div>\n",
              "    <div class=\"colab-df-buttons\">\n",
              "\n",
              "  <div class=\"colab-df-container\">\n",
              "    <button class=\"colab-df-convert\" onclick=\"convertToInteractive('df-14f578ca-62a4-4744-a17c-ee46f671c937')\"\n",
              "            title=\"Convert this dataframe to an interactive table.\"\n",
              "            style=\"display:none;\">\n",
              "\n",
              "  <svg xmlns=\"http://www.w3.org/2000/svg\" height=\"24px\" viewBox=\"0 -960 960 960\">\n",
              "    <path d=\"M120-120v-720h720v720H120Zm60-500h600v-160H180v160Zm220 220h160v-160H400v160Zm0 220h160v-160H400v160ZM180-400h160v-160H180v160Zm440 0h160v-160H620v160ZM180-180h160v-160H180v160Zm440 0h160v-160H620v160Z\"/>\n",
              "  </svg>\n",
              "    </button>\n",
              "\n",
              "  <style>\n",
              "    .colab-df-container {\n",
              "      display:flex;\n",
              "      gap: 12px;\n",
              "    }\n",
              "\n",
              "    .colab-df-convert {\n",
              "      background-color: #E8F0FE;\n",
              "      border: none;\n",
              "      border-radius: 50%;\n",
              "      cursor: pointer;\n",
              "      display: none;\n",
              "      fill: #1967D2;\n",
              "      height: 32px;\n",
              "      padding: 0 0 0 0;\n",
              "      width: 32px;\n",
              "    }\n",
              "\n",
              "    .colab-df-convert:hover {\n",
              "      background-color: #E2EBFA;\n",
              "      box-shadow: 0px 1px 2px rgba(60, 64, 67, 0.3), 0px 1px 3px 1px rgba(60, 64, 67, 0.15);\n",
              "      fill: #174EA6;\n",
              "    }\n",
              "\n",
              "    .colab-df-buttons div {\n",
              "      margin-bottom: 4px;\n",
              "    }\n",
              "\n",
              "    [theme=dark] .colab-df-convert {\n",
              "      background-color: #3B4455;\n",
              "      fill: #D2E3FC;\n",
              "    }\n",
              "\n",
              "    [theme=dark] .colab-df-convert:hover {\n",
              "      background-color: #434B5C;\n",
              "      box-shadow: 0px 1px 3px 1px rgba(0, 0, 0, 0.15);\n",
              "      filter: drop-shadow(0px 1px 2px rgba(0, 0, 0, 0.3));\n",
              "      fill: #FFFFFF;\n",
              "    }\n",
              "  </style>\n",
              "\n",
              "    <script>\n",
              "      const buttonEl =\n",
              "        document.querySelector('#df-14f578ca-62a4-4744-a17c-ee46f671c937 button.colab-df-convert');\n",
              "      buttonEl.style.display =\n",
              "        google.colab.kernel.accessAllowed ? 'block' : 'none';\n",
              "\n",
              "      async function convertToInteractive(key) {\n",
              "        const element = document.querySelector('#df-14f578ca-62a4-4744-a17c-ee46f671c937');\n",
              "        const dataTable =\n",
              "          await google.colab.kernel.invokeFunction('convertToInteractive',\n",
              "                                                    [key], {});\n",
              "        if (!dataTable) return;\n",
              "\n",
              "        const docLinkHtml = 'Like what you see? Visit the ' +\n",
              "          '<a target=\"_blank\" href=https://colab.research.google.com/notebooks/data_table.ipynb>data table notebook</a>'\n",
              "          + ' to learn more about interactive tables.';\n",
              "        element.innerHTML = '';\n",
              "        dataTable['output_type'] = 'display_data';\n",
              "        await google.colab.output.renderOutput(dataTable, element);\n",
              "        const docLink = document.createElement('div');\n",
              "        docLink.innerHTML = docLinkHtml;\n",
              "        element.appendChild(docLink);\n",
              "      }\n",
              "    </script>\n",
              "  </div>\n",
              "\n",
              "\n",
              "<div id=\"df-5a2a1cc2-8f85-46e2-a849-311f411b0f6b\">\n",
              "  <button class=\"colab-df-quickchart\" onclick=\"quickchart('df-5a2a1cc2-8f85-46e2-a849-311f411b0f6b')\"\n",
              "            title=\"Suggest charts\"\n",
              "            style=\"display:none;\">\n",
              "\n",
              "<svg xmlns=\"http://www.w3.org/2000/svg\" height=\"24px\"viewBox=\"0 0 24 24\"\n",
              "     width=\"24px\">\n",
              "    <g>\n",
              "        <path d=\"M19 3H5c-1.1 0-2 .9-2 2v14c0 1.1.9 2 2 2h14c1.1 0 2-.9 2-2V5c0-1.1-.9-2-2-2zM9 17H7v-7h2v7zm4 0h-2V7h2v10zm4 0h-2v-4h2v4z\"/>\n",
              "    </g>\n",
              "</svg>\n",
              "  </button>\n",
              "\n",
              "<style>\n",
              "  .colab-df-quickchart {\n",
              "      --bg-color: #E8F0FE;\n",
              "      --fill-color: #1967D2;\n",
              "      --hover-bg-color: #E2EBFA;\n",
              "      --hover-fill-color: #174EA6;\n",
              "      --disabled-fill-color: #AAA;\n",
              "      --disabled-bg-color: #DDD;\n",
              "  }\n",
              "\n",
              "  [theme=dark] .colab-df-quickchart {\n",
              "      --bg-color: #3B4455;\n",
              "      --fill-color: #D2E3FC;\n",
              "      --hover-bg-color: #434B5C;\n",
              "      --hover-fill-color: #FFFFFF;\n",
              "      --disabled-bg-color: #3B4455;\n",
              "      --disabled-fill-color: #666;\n",
              "  }\n",
              "\n",
              "  .colab-df-quickchart {\n",
              "    background-color: var(--bg-color);\n",
              "    border: none;\n",
              "    border-radius: 50%;\n",
              "    cursor: pointer;\n",
              "    display: none;\n",
              "    fill: var(--fill-color);\n",
              "    height: 32px;\n",
              "    padding: 0;\n",
              "    width: 32px;\n",
              "  }\n",
              "\n",
              "  .colab-df-quickchart:hover {\n",
              "    background-color: var(--hover-bg-color);\n",
              "    box-shadow: 0 1px 2px rgba(60, 64, 67, 0.3), 0 1px 3px 1px rgba(60, 64, 67, 0.15);\n",
              "    fill: var(--button-hover-fill-color);\n",
              "  }\n",
              "\n",
              "  .colab-df-quickchart-complete:disabled,\n",
              "  .colab-df-quickchart-complete:disabled:hover {\n",
              "    background-color: var(--disabled-bg-color);\n",
              "    fill: var(--disabled-fill-color);\n",
              "    box-shadow: none;\n",
              "  }\n",
              "\n",
              "  .colab-df-spinner {\n",
              "    border: 2px solid var(--fill-color);\n",
              "    border-color: transparent;\n",
              "    border-bottom-color: var(--fill-color);\n",
              "    animation:\n",
              "      spin 1s steps(1) infinite;\n",
              "  }\n",
              "\n",
              "  @keyframes spin {\n",
              "    0% {\n",
              "      border-color: transparent;\n",
              "      border-bottom-color: var(--fill-color);\n",
              "      border-left-color: var(--fill-color);\n",
              "    }\n",
              "    20% {\n",
              "      border-color: transparent;\n",
              "      border-left-color: var(--fill-color);\n",
              "      border-top-color: var(--fill-color);\n",
              "    }\n",
              "    30% {\n",
              "      border-color: transparent;\n",
              "      border-left-color: var(--fill-color);\n",
              "      border-top-color: var(--fill-color);\n",
              "      border-right-color: var(--fill-color);\n",
              "    }\n",
              "    40% {\n",
              "      border-color: transparent;\n",
              "      border-right-color: var(--fill-color);\n",
              "      border-top-color: var(--fill-color);\n",
              "    }\n",
              "    60% {\n",
              "      border-color: transparent;\n",
              "      border-right-color: var(--fill-color);\n",
              "    }\n",
              "    80% {\n",
              "      border-color: transparent;\n",
              "      border-right-color: var(--fill-color);\n",
              "      border-bottom-color: var(--fill-color);\n",
              "    }\n",
              "    90% {\n",
              "      border-color: transparent;\n",
              "      border-bottom-color: var(--fill-color);\n",
              "    }\n",
              "  }\n",
              "</style>\n",
              "\n",
              "  <script>\n",
              "    async function quickchart(key) {\n",
              "      const quickchartButtonEl =\n",
              "        document.querySelector('#' + key + ' button');\n",
              "      quickchartButtonEl.disabled = true;  // To prevent multiple clicks.\n",
              "      quickchartButtonEl.classList.add('colab-df-spinner');\n",
              "      try {\n",
              "        const charts = await google.colab.kernel.invokeFunction(\n",
              "            'suggestCharts', [key], {});\n",
              "      } catch (error) {\n",
              "        console.error('Error during call to suggestCharts:', error);\n",
              "      }\n",
              "      quickchartButtonEl.classList.remove('colab-df-spinner');\n",
              "      quickchartButtonEl.classList.add('colab-df-quickchart-complete');\n",
              "    }\n",
              "    (() => {\n",
              "      let quickchartButtonEl =\n",
              "        document.querySelector('#df-5a2a1cc2-8f85-46e2-a849-311f411b0f6b button');\n",
              "      quickchartButtonEl.style.display =\n",
              "        google.colab.kernel.accessAllowed ? 'block' : 'none';\n",
              "    })();\n",
              "  </script>\n",
              "</div>\n",
              "\n",
              "    </div>\n",
              "  </div>\n"
            ],
            "application/vnd.google.colaboratory.intrinsic+json": {
              "type": "dataframe",
              "summary": "{\n  \"name\": \"orderdata\",\n  \"rows\": 4,\n  \"fields\": [\n    {\n      \"column\": \"count\",\n      \"properties\": {\n        \"dtype\": \"number\",\n        \"std\": 368.0,\n        \"min\": 1162.0,\n        \"max\": 1898.0,\n        \"num_unique_values\": 2,\n        \"samples\": [\n          1162.0,\n          1898.0\n        ],\n        \"semantic_type\": \"\",\n        \"description\": \"\"\n      }\n    },\n    {\n      \"column\": \"mean\",\n      \"properties\": {\n        \"dtype\": \"number\",\n        \"std\": 10.238796782861288,\n        \"min\": 4.344234079173838,\n        \"max\": 27.371970495258168,\n        \"num_unique_values\": 4,\n        \"samples\": [\n          4.344234079173838,\n          24.161749209694417\n        ],\n        \"semantic_type\": \"\",\n        \"description\": \"\"\n      }\n    },\n    {\n      \"column\": \"std\",\n      \"properties\": {\n        \"dtype\": \"number\",\n        \"std\": 2.7846822757858933,\n        \"min\": 0.7414783567985952,\n        \"max\": 7.48381211004957,\n        \"num_unique_values\": 4,\n        \"samples\": [\n          0.7414783567985952,\n          4.972636933991106\n        ],\n        \"semantic_type\": \"\",\n        \"description\": \"\"\n      }\n    },\n    {\n      \"column\": \"min\",\n      \"properties\": {\n        \"dtype\": \"number\",\n        \"std\": 8.227103074594362,\n        \"min\": 3.0,\n        \"max\": 20.0,\n        \"num_unique_values\": 4,\n        \"samples\": [\n          3.0,\n          15.0\n        ],\n        \"semantic_type\": \"\",\n        \"description\": \"\"\n      }\n    },\n    {\n      \"column\": \"25%\",\n      \"properties\": {\n        \"dtype\": \"number\",\n        \"std\": 8.530627175067492,\n        \"min\": 4.0,\n        \"max\": 23.0,\n        \"num_unique_values\": 4,\n        \"samples\": [\n          4.0,\n          20.0\n        ],\n        \"semantic_type\": \"\",\n        \"description\": \"\"\n      }\n    },\n    {\n      \"column\": \"50%\",\n      \"properties\": {\n        \"dtype\": \"number\",\n        \"std\": 10.226023991105569,\n        \"min\": 5.0,\n        \"max\": 27.0,\n        \"num_unique_values\": 4,\n        \"samples\": [\n          5.0,\n          25.0\n        ],\n        \"semantic_type\": \"\",\n        \"description\": \"\"\n      }\n    },\n    {\n      \"column\": \"75%\",\n      \"properties\": {\n        \"dtype\": \"number\",\n        \"std\": 11.624168496248092,\n        \"min\": 5.0,\n        \"max\": 31.0,\n        \"num_unique_values\": 4,\n        \"samples\": [\n          5.0,\n          28.0\n        ],\n        \"semantic_type\": \"\",\n        \"description\": \"\"\n      }\n    },\n    {\n      \"column\": \"max\",\n      \"properties\": {\n        \"dtype\": \"number\",\n        \"std\": 14.772565507272821,\n        \"min\": 5.0,\n        \"max\": 35.41,\n        \"num_unique_values\": 4,\n        \"samples\": [\n          5.0,\n          33.0\n        ],\n        \"semantic_type\": \"\",\n        \"description\": \"\"\n      }\n    }\n  ]\n}"
            }
          },
          "metadata": {},
          "execution_count": 196
        }
      ],
      "source": [
        "# Write your code here\n",
        "orderdata.describe().T"
      ]
    },
    {
      "cell_type": "markdown",
      "metadata": {
        "id": "9YbSOR5wJY_T"
      },
      "source": [
        "#### **Observations**:\n",
        "**Minimum time**: 20 minutes\n",
        "\n",
        "**Average time**: 27.37 minutes\n",
        "\n",
        "**Maximum**: 35 minutes\n"
      ]
    },
    {
      "cell_type": "markdown",
      "metadata": {
        "id": "cw3l58z_JY_T"
      },
      "source": [
        "### **Question 5:** How many orders are not rated? [1 mark]"
      ]
    },
    {
      "cell_type": "code",
      "execution_count": null,
      "metadata": {
        "colab": {
          "base_uri": "https://localhost:8080/"
        },
        "id": "hEzDUL9wgksi",
        "outputId": "6e8a6f81-517d-4ea9-bb48-02bb148ca603"
      },
      "outputs": [
        {
          "output_type": "stream",
          "name": "stdout",
          "text": [
            "NA values in the rating column:\n",
            " 736\n"
          ]
        }
      ],
      "source": [
        "#We converted not given ratings to NA, so we have to count isna()\n",
        "na_count = orderdata['rating'].isna().sum()\n",
        "print(\"NA values in the rating column:\\n\", na_count)"
      ]
    },
    {
      "cell_type": "markdown",
      "metadata": {
        "id": "5E0O_oviJY_T"
      },
      "source": [
        "#### **Observations**:\n",
        "**There are 736 orders that are not rated.** Since that represents 39% of the data, we should not just blindly filter out those orders by dropping the associated rows or dropping the column.\n",
        "\n",
        "It is hard to believe that there are no one-star and two star ratings. Generally speaking, if people are dissatisfied with the product or the service, they will let you know with a bad rating. Therefore, when I do the multivariate analysis, I am going to assign zeros to the \"Not given\" ratings, just for the purpose of argument and in order to have a numeric value that we can check for correlation with other variables.\n"
      ]
    },
    {
      "cell_type": "markdown",
      "metadata": {
        "id": "7msIfXE-JY_T"
      },
      "source": [
        "### **Exploratory Data Analysis (EDA)**"
      ]
    },
    {
      "cell_type": "markdown",
      "metadata": {
        "id": "-2xfI28YJY_T"
      },
      "source": [
        "### **Univariate Analysis**"
      ]
    },
    {
      "cell_type": "markdown",
      "metadata": {
        "id": "0RHZnugBJY_U"
      },
      "source": [
        "### **Question 6:** Explore all the variables and provide observations on their distributions. (Generally, histograms, boxplots, countplots, etc. are used for univariate exploration.) [9 marks]"
      ]
    },
    {
      "cell_type": "code",
      "execution_count": null,
      "metadata": {
        "colab": {
          "base_uri": "https://localhost:8080/",
          "height": 561
        },
        "id": "rU5ZqISjJY_U",
        "outputId": "fc0b3574-493c-47ed-a6e8-28f838fa1cc1"
      },
      "outputs": [
        {
          "output_type": "display_data",
          "data": {
            "text/plain": [
              "<Figure size 640x480 with 1 Axes>"
            ],
            "image/png": "[encoded data removed]"
          },
          "metadata": {}
        }
      ],
      "source": [
        "# Looking at cuisine type with countplot since it is for categorical data\n",
        "# Calculate frequencies and sort by frequency in descending order\n",
        "category_order = orderdata['cuisine_type'].value_counts().index\n",
        "\n",
        "# Create a countplot with seaborn\n",
        "sns.countplot(data=orderdata, x='cuisine_type', order=category_order)\n",
        "plt.xticks(rotation=90)\n",
        "plt.title('Orders by Cuisine Type')\n",
        "plt.show()"
      ]
    },
    {
      "cell_type": "markdown",
      "source": [
        "#####**Observation:**\n",
        "American is the most popular cuisine type, followed by Japanese and Italian."
      ],
      "metadata": {
        "id": "fcZcbD0jrSt1"
      }
    },
    {
      "cell_type": "code",
      "execution_count": null,
      "metadata": {
        "colab": {
          "base_uri": "https://localhost:8080/",
          "height": 491
        },
        "id": "w1WoLJQ4OR3A",
        "outputId": "56fe9842-4827-4257-a1eb-98b1c4365deb"
      },
      "outputs": [
        {
          "output_type": "display_data",
          "data": {
            "text/plain": [
              "<Figure size 640x480 with 1 Axes>"
            ],
            "image/png": "[encoded data removed]"
          },
          "metadata": {}
        }
      ],
      "source": [
        "sns.countplot(data=orderdata,x='day_of_the_week')\n",
        "plt.xticks(rotation=45)\n",
        "plt.show()"
      ]
    },
    {
      "cell_type": "markdown",
      "source": [
        "#####**Observation:**\n",
        "Approximately twice as many orders happen on the weekends than on weekdays."
      ],
      "metadata": {
        "id": "9U5EZsxXreDZ"
      }
    },
    {
      "cell_type": "code",
      "execution_count": null,
      "metadata": {
        "colab": {
          "base_uri": "https://localhost:8080/",
          "height": 894
        },
        "id": "6P85hFxZPLCP",
        "outputId": "6588f64d-dd74-4021-eb39-4bbca8fb2933"
      },
      "outputs": [
        {
          "output_type": "display_data",
          "data": {
            "text/plain": [
              "<Figure size 640x480 with 1 Axes>"
            ],
            "image/png": "[encoded data removed]"
          },
          "metadata": {}
        },
        {
          "output_type": "display_data",
          "data": {
            "text/plain": [
              "<Figure size 640x480 with 1 Axes>"
            ],
            "image/png": "[encoded data removed]"
          },
          "metadata": {}
        }
      ],
      "source": [
        "# Looking at cost\n",
        "#adjusting number of bins so plot makes more sense to read\n",
        "sns.histplot(data=orderdata,x='cost_of_the_order', bins=8)\n",
        "plt.xticks(rotation=90)\n",
        "plt.show()\n",
        "sns.boxplot(data=orderdata,x='cost_of_the_order')\n",
        "plt.xticks(rotation=90)\n",
        "plt.show()"
      ]
    },
    {
      "cell_type": "markdown",
      "source": [
        "#####**Observation:**\n",
        "The majority of the orders cost been 12.00 and 22.00. The median is around 14.00"
      ],
      "metadata": {
        "id": "UMkTx3p1sDwU"
      }
    },
    {
      "cell_type": "code",
      "source": [
        "####Delivery Time\n",
        "\n",
        "sns.histplot(data=orderdata,x='delivery_time', bins=25)\n",
        "plt.xticks(rotation=90)\n",
        "plt.show()\n",
        "\n",
        "sns.boxplot(data=orderdata,x='delivery_time')\n",
        "plt.xticks(rotation=90)\n",
        "plt.show()\n",
        "\n",
        "\n"
      ],
      "metadata": {
        "colab": {
          "base_uri": "https://localhost:8080/",
          "height": 915
        },
        "id": "kQ4jVpZ2TaVS",
        "outputId": "dda38526-05ca-4f45-ed9e-1a96612bc249"
      },
      "execution_count": null,
      "outputs": [
        {
          "output_type": "display_data",
          "data": {
            "text/plain": [
              "<Figure size 640x480 with 1 Axes>"
            ],
            "image/png": "[encoded data removed]"
          },
          "metadata": {}
        },
        {
          "output_type": "display_data",
          "data": {
            "text/plain": [
              "<Figure size 640x480 with 1 Axes>"
            ],
            "image/png": "[encoded data removed]"
          },
          "metadata": {}
        }
      ]
    },
    {
      "cell_type": "markdown",
      "source": [
        "#####**Observation**:\n",
        "Delivery time tends to be between 20 and 28 minutes, with a median of 25 minutes."
      ],
      "metadata": {
        "id": "IP_aSn6CsqTf"
      }
    },
    {
      "cell_type": "code",
      "source": [
        "####Food Preparation time\n",
        "\n",
        "sns.histplot(data=orderdata,x='food_preparation_time', bins=25)\n",
        "plt.xticks(rotation=90)\n",
        "plt.show()\n",
        "\n",
        "sns.boxplot(data=orderdata,x='food_preparation_time')\n",
        "plt.xticks(rotation=90)\n",
        "plt.show()"
      ],
      "metadata": {
        "colab": {
          "base_uri": "https://localhost:8080/",
          "height": 890
        },
        "id": "IOpqrwp0rscB",
        "outputId": "734538dd-c9d0-4ebe-ddcc-69f88f6cb216"
      },
      "execution_count": null,
      "outputs": [
        {
          "output_type": "display_data",
          "data": {
            "text/plain": [
              "<Figure size 640x480 with 1 Axes>"
            ],
            "image/png": "[encoded data removed]"
          },
          "metadata": {}
        },
        {
          "output_type": "display_data",
          "data": {
            "text/plain": [
              "<Figure size 640x480 with 1 Axes>"
            ],
            "image/png": "[encoded data removed]"
          },
          "metadata": {}
        }
      ]
    },
    {
      "cell_type": "markdown",
      "source": [
        "#####Observation:\n",
        "Food preparation time tends to be within 23 to 30 minutes with a median of approximately 27 minutes."
      ],
      "metadata": {
        "id": "k5SofrBws_Aj"
      }
    },
    {
      "cell_type": "markdown",
      "metadata": {
        "id": "K9CqA5H_JY_U"
      },
      "source": [
        "### **Question 7**: Which are the top 5 restaurants in terms of the number of orders received? [1 mark]"
      ]
    },
    {
      "cell_type": "code",
      "execution_count": null,
      "metadata": {
        "colab": {
          "base_uri": "https://localhost:8080/"
        },
        "id": "PaJZ3wlOJY_U",
        "outputId": "623fecf5-3f50-4c7d-c531-2d2275ef0e2b"
      },
      "outputs": [
        {
          "output_type": "stream",
          "name": "stdout",
          "text": [
            "restaurant_name\n",
            "Shake Shack                  219\n",
            "The Meatball Shop            132\n",
            "Blue Ribbon Sushi            119\n",
            "Blue Ribbon Fried Chicken     96\n",
            "Parm                          68\n",
            "Name: order_id, dtype: int64\n"
          ]
        }
      ],
      "source": [
        "#Group by restaurant ID and count orders. Then display in descending order.\n",
        "order_counts = orderdata.groupby('restaurant_name')['order_id'].count()\n",
        "top5 = order_counts.sort_values(ascending = False).head(5)\n",
        "print(top5)"
      ]
    },
    {
      "cell_type": "markdown",
      "metadata": {
        "id": "tnjhWgUfJY_U"
      },
      "source": [
        "#### **Observations:**\n",
        "**Rankings are as follows:**\n",
        "\n",
        "1.   Shake Shack\n",
        "2.   The Meatball Shop\n",
        "3.   Blue Ribbon Sushi\n",
        "4.   Blue Ribbon Fried Chicken\n",
        "5.   Parm\n",
        "\n",
        "It is worth noting that there are some restaurants that are very similarly named, like \"Vanessa's Dumplings\" and \"Vanessa's Dumpling House.\" If I were doing this analysis for my own company, I would probably do some extra research and cleaning on these restaurant names. As I have no way to know this for the purpose of this exercise, I am assuming that a different name is a different restaurant or location."
      ]
    },
    {
      "cell_type": "markdown",
      "metadata": {
        "id": "gWPMqGq0JY_U"
      },
      "source": [
        "### **Question 8**: Which is the most popular cuisine on weekends? [1 mark]"
      ]
    },
    {
      "cell_type": "code",
      "execution_count": null,
      "metadata": {
        "colab": {
          "base_uri": "https://localhost:8080/"
        },
        "id": "c-Xnus3VJY_U",
        "outputId": "b6df3b65-5278-4f12-9b6d-a8203a19627f"
      },
      "outputs": [
        {
          "output_type": "stream",
          "name": "stdout",
          "text": [
            "cuisine_type\n",
            "American    415\n",
            "Japanese    335\n",
            "Italian     207\n",
            "Chinese     163\n",
            "Mexican      53\n",
            "Name: order_id, dtype: int64\n"
          ]
        }
      ],
      "source": [
        "#group by day of the week, then cuisine. Count orders.\n",
        "weekend_counts = orderdata.groupby(['day_of_the_week','cuisine_type'])['order_id'].count()\n",
        "top_weekend_cuisine = weekend_counts.loc['Weekend'].sort_values(ascending = False).head(5)\n",
        "print(top_weekend_cuisine)"
      ]
    },
    {
      "cell_type": "code",
      "source": [
        "#out of curiousity, let's look at weekdays, too.\n",
        "weekday_counts = orderdata.groupby(['day_of_the_week','cuisine_type'])['order_id'].count()\n",
        "top_weekday_cuisine = weekday_counts.loc['Weekday'].sort_values(ascending = False).head(5)\n",
        "print(top_weekday_cuisine)"
      ],
      "metadata": {
        "colab": {
          "base_uri": "https://localhost:8080/"
        },
        "id": "KlCY2OhQpVlq",
        "outputId": "3d23bef2-a2ca-4a8d-eb0a-9f71dc58e35a"
      },
      "execution_count": null,
      "outputs": [
        {
          "output_type": "stream",
          "name": "stdout",
          "text": [
            "cuisine_type\n",
            "American    169\n",
            "Japanese    135\n",
            "Italian      91\n",
            "Chinese      52\n",
            "Indian       24\n",
            "Name: order_id, dtype: int64\n"
          ]
        }
      ]
    },
    {
      "cell_type": "markdown",
      "metadata": {
        "id": "bpQ270TUJY_U"
      },
      "source": [
        "#### **Observations:**\n",
        "\n",
        "American is the most popular on weekends. For that matter, it is also the most popular on weekdays.\n"
      ]
    },
    {
      "cell_type": "markdown",
      "metadata": {
        "id": "88xgTqkxJY_U"
      },
      "source": [
        "### **Question 9**: What percentage of the orders cost more than 20 dollars? [2 marks]"
      ]
    },
    {
      "cell_type": "code",
      "execution_count": null,
      "metadata": {
        "colab": {
          "base_uri": "https://localhost:8080/"
        },
        "id": "OTpHyTdzJY_U",
        "outputId": "5a755e62-a7dc-4deb-9d79-60bb4a82c678"
      },
      "outputs": [
        {
          "output_type": "stream",
          "name": "stdout",
          "text": [
            "Orders over $20.00:   555 \n",
            "Total orders:   1898 \n",
            "Percentage of orders over $20.00:   0.2924130663856691\n"
          ]
        }
      ],
      "source": [
        "orders_over_20=orderdata.loc[orderdata['cost_of_the_order'] > 20.00].shape[0]\n",
        "\n",
        "total_orders = orderdata.shape[0]\n",
        "\n",
        "print(\"Orders over $20.00:  \",orders_over_20,\"\\nTotal orders:  \",total_orders,\"\\nPercentage of orders over $20.00:  \",(orders_over_20/total_orders))"
      ]
    },
    {
      "cell_type": "markdown",
      "metadata": {
        "id": "77KNAC5zJY_U"
      },
      "source": [
        "#### **Observations:**\n",
        "29% of orders are over $20.00\n"
      ]
    },
    {
      "cell_type": "markdown",
      "metadata": {
        "id": "HFyHn7hsJY_V"
      },
      "source": [
        "### **Question 10**: What is the mean order delivery time? [1 mark]"
      ]
    },
    {
      "cell_type": "code",
      "execution_count": null,
      "metadata": {
        "colab": {
          "base_uri": "https://localhost:8080/"
        },
        "id": "cyFL13hNJY_V",
        "outputId": "a963b83b-fb7b-4eb5-9c54-5198a5bf0afd"
      },
      "outputs": [
        {
          "output_type": "execute_result",
          "data": {
            "text/plain": [
              "24.161749209694417"
            ]
          },
          "metadata": {},
          "execution_count": 207
        }
      ],
      "source": [
        "orderdata['delivery_time'].mean()"
      ]
    },
    {
      "cell_type": "markdown",
      "metadata": {
        "id": "F35SRV-HJY_V"
      },
      "source": [
        "#### **Observations:**\n",
        "The mean delivery time is 24.16 minutes.\n"
      ]
    },
    {
      "cell_type": "markdown",
      "metadata": {
        "id": "48IjaOuDJY_V"
      },
      "source": [
        "### **Question 11:** The company has decided to give 20% discount vouchers to the top 3 most frequent customers. Find the IDs of these customers and the number of orders they placed. [1 mark]"
      ]
    },
    {
      "cell_type": "code",
      "execution_count": null,
      "metadata": {
        "colab": {
          "base_uri": "https://localhost:8080/"
        },
        "id": "Hz8-DE4Zge0j",
        "outputId": "0f8ebf24-447e-45a1-c781-45abac2126b4"
      },
      "outputs": [
        {
          "output_type": "stream",
          "name": "stdout",
          "text": [
            "customer_id\n",
            "52832    13\n",
            "47440    10\n",
            "83287     9\n",
            "Name: order_id, dtype: int64\n"
          ]
        }
      ],
      "source": [
        "# Group by customer and count order ids. Then show the top 3 in descending order.\n",
        "customer_counts = orderdata.groupby('customer_id')['order_id'].count()\n",
        "top3 = customer_counts.sort_values(ascending = False).head(3)\n",
        "print(top3)"
      ]
    },
    {
      "cell_type": "markdown",
      "metadata": {
        "id": "9tWVwfX6JY_V"
      },
      "source": [
        "#### Observations:\n",
        "### **Top 3 customers are:**\n",
        "\n",
        "52832 with 13 orders\n",
        "\n",
        "47440 with 10 orders\n",
        "\n",
        "83287 with 9 orders\n"
      ]
    },
    {
      "cell_type": "markdown",
      "metadata": {
        "id": "AfIc2jPaJY_V"
      },
      "source": [
        "### Multivariate Analysis"
      ]
    },
    {
      "cell_type": "markdown",
      "metadata": {
        "id": "iqiS0RT_JY_V"
      },
      "source": [
        "### **Question 12**: Perform a multivariate analysis to explore relationships between the important variables in the dataset. (It is a good idea to explore relations between numerical variables as well as relations between numerical and categorical variables) [10 marks]\n"
      ]
    },
    {
      "cell_type": "code",
      "execution_count": null,
      "metadata": {
        "colab": {
          "base_uri": "https://localhost:8080/",
          "height": 561
        },
        "id": "MM5p2nfjZG8g",
        "outputId": "6562d73d-6680-4d6a-a98e-fc54d5841095"
      },
      "outputs": [
        {
          "output_type": "display_data",
          "data": {
            "text/plain": [
              "<Figure size 640x480 with 1 Axes>"
            ],
            "image/png": "[encoded data removed]"
          },
          "metadata": {}
        }
      ],
      "source": [
        "sns.barplot(x='cuisine_type', y='cost_of_the_order', data=orderdata, estimator=np.mean)\n",
        "plt.xticks(rotation=90)\n",
        "plt.title('Average Prices Across Different Cuisines')\n",
        "plt.xlabel('Cuisine Type')\n",
        "plt.ylabel('Average Cost of Order')\n",
        "plt.show()\n"
      ]
    },
    {
      "cell_type": "markdown",
      "source": [
        "#####**Observation:**\n",
        "American may be the most popular food in terms of order volume as shown in our previous analysis, but in terms of the average cost of order, Middle Eastern, Thai, Southern, French and Spanish have a higher average cost per order."
      ],
      "metadata": {
        "id": "EX8pGZAVvfKG"
      }
    },
    {
      "cell_type": "code",
      "execution_count": null,
      "metadata": {
        "colab": {
          "base_uri": "https://localhost:8080/"
        },
        "id": "APXGdFlt68Kb",
        "outputId": "76074a39-869f-4643-9025-e81245c2a73d",
        "collapsed": true
      },
      "outputs": [
        {
          "output_type": "stream",
          "name": "stdout",
          "text": [
            "  day_of_the_week  day_of_week_bool\n",
            "0         Weekend              True\n",
            "1         Weekend              True\n",
            "2         Weekday             False\n",
            "3         Weekend              True\n",
            "4         Weekday             False\n"
          ]
        }
      ],
      "source": [
        "# Convert 'day_of_the_week' to boolean where 'Weekend' is True and 'Weekday' is False\n",
        "orderdata['day_of_week_bool'] = orderdata['day_of_the_week'].map({'Weekend': True, 'Weekday': False})\n",
        "\n",
        "# Check the conversion\n",
        "print(orderdata[['day_of_the_week', 'day_of_week_bool']].head())"
      ]
    },
    {
      "cell_type": "code",
      "execution_count": null,
      "metadata": {
        "colab": {
          "base_uri": "https://localhost:8080/"
        },
        "id": "l-jasFUyApyT",
        "outputId": "6522e74f-5c5a-438b-e695-c2d99a7c3817"
      },
      "outputs": [
        {
          "output_type": "stream",
          "name": "stdout",
          "text": [
            "      rating  rating_converted\n",
            "0        NaN               0.0\n",
            "1        NaN               0.0\n",
            "2        5.0               5.0\n",
            "3        3.0               3.0\n",
            "4        4.0               4.0\n",
            "...      ...               ...\n",
            "1893     5.0               5.0\n",
            "1894     5.0               5.0\n",
            "1895     NaN               0.0\n",
            "1896     5.0               5.0\n",
            "1897     NaN               0.0\n",
            "\n",
            "[1898 rows x 2 columns]\n"
          ]
        }
      ],
      "source": [
        "# Replace NA values in the 'rating' column with 0 so that we can use it as a value for correlation. We'll add a new column so we don't lose the original data\n",
        "orderdata['rating_converted'] = orderdata['rating'].fillna(0)\n",
        "\n",
        "# Verify the changes\n",
        "print(orderdata[['rating','rating_converted']])"
      ]
    },
    {
      "cell_type": "code",
      "execution_count": null,
      "metadata": {
        "colab": {
          "base_uri": "https://localhost:8080/"
        },
        "id": "b5xmHlKDCvn_",
        "outputId": "26b309d8-4f07-44c9-fa81-4d14e6103913"
      },
      "outputs": [
        {
          "output_type": "stream",
          "name": "stdout",
          "text": [
            "                       cost_of_the_order  food_preparation_time  \\\n",
            "cost_of_the_order               1.000000               0.041527   \n",
            "food_preparation_time           0.041527               1.000000   \n",
            "delivery_time                  -0.029949               0.011094   \n",
            "rating                          0.033983              -0.006083   \n",
            "day_of_week_bool                0.015960               0.021970   \n",
            "\n",
            "                       delivery_time    rating  day_of_week_bool  \n",
            "cost_of_the_order          -0.029949  0.033983          0.015960  \n",
            "food_preparation_time       0.011094 -0.006083          0.021970  \n",
            "delivery_time               1.000000 -0.009804         -0.534801  \n",
            "rating                     -0.009804  1.000000          0.030727  \n",
            "day_of_week_bool           -0.534801  0.030727          1.000000  \n"
          ]
        }
      ],
      "source": [
        "#looking at correlation numerically\n",
        "print(orderdata[['cost_of_the_order', 'food_preparation_time', 'delivery_time','rating','day_of_week_bool']].corr())"
      ]
    },
    {
      "cell_type": "code",
      "execution_count": null,
      "metadata": {
        "colab": {
          "base_uri": "https://localhost:8080/",
          "height": 799
        },
        "id": "vr55ibbM4Fle",
        "outputId": "e0270aaa-2049-486c-ffac-80b8eea68d3b"
      },
      "outputs": [
        {
          "output_type": "execute_result",
          "data": {
            "text/plain": [
              "([0, 1, 2, 3, 4, 5, 6, 7, 8, 9, 10, 11, 12, 13],\n",
              " [Text(0, 0, 'Korean'),\n",
              "  Text(1, 0, 'Japanese'),\n",
              "  Text(2, 0, 'Mexican'),\n",
              "  Text(3, 0, 'American'),\n",
              "  Text(4, 0, 'Indian'),\n",
              "  Text(5, 0, 'Italian'),\n",
              "  Text(6, 0, 'Mediterranean'),\n",
              "  Text(7, 0, 'Chinese'),\n",
              "  Text(8, 0, 'Middle Eastern'),\n",
              "  Text(9, 0, 'Thai'),\n",
              "  Text(10, 0, 'Southern'),\n",
              "  Text(11, 0, 'French'),\n",
              "  Text(12, 0, 'Spanish'),\n",
              "  Text(13, 0, 'Vietnamese')])"
            ]
          },
          "metadata": {},
          "execution_count": 213
        },
        {
          "output_type": "display_data",
          "data": {
            "text/plain": [
              "<Figure size 640x480 with 1 Axes>"
            ],
            "image/png": "[encoded data removed]"
          },
          "metadata": {}
        }
      ],
      "source": [
        "sns.boxplot(x='cuisine_type', y='cost_of_the_order', data=orderdata)\n",
        "plt.xticks(rotation=90)"
      ]
    },
    {
      "cell_type": "code",
      "execution_count": null,
      "metadata": {
        "colab": {
          "base_uri": "https://localhost:8080/",
          "height": 842
        },
        "id": "3qt4MCNTJY_V",
        "outputId": "9d883bd5-b47b-4e6b-da04-48dd9e4f12b6"
      },
      "outputs": [
        {
          "output_type": "display_data",
          "data": {
            "text/plain": [
              "<Figure size 1000x800 with 2 Axes>"
            ],
            "image/png": "[encoded data removed]"
          },
          "metadata": {}
        }
      ],
      "source": [
        "# Correlation matrix of all variables\n",
        "corrmatrix = orderdata[['cost_of_the_order', 'food_preparation_time', 'delivery_time','rating','day_of_week_bool']].corr()\n",
        "plt.figure(figsize=(10, 8))\n",
        "sns.heatmap(corrmatrix, annot=True, fmt=\".2f\", cmap='viridis', square=True, cbar_kws={\"shrink\": .8})\n",
        "plt.title('Correlation Matrix of Variables')\n",
        "plt.show()"
      ]
    },
    {
      "cell_type": "code",
      "source": [
        "# @title day_of_the_week vs rating\n",
        "df_2dhist = pd.DataFrame({\n",
        "    x_label: grp['rating'].value_counts()\n",
        "    for x_label, grp in orderdata.groupby('day_of_the_week')\n",
        "})\n",
        "sns.heatmap(df_2dhist, cmap='viridis')\n",
        "plt.xlabel('day_of_the_week')\n",
        "_ = plt.ylabel('rating')"
      ],
      "metadata": {
        "colab": {
          "base_uri": "https://localhost:8080/",
          "height": 450
        },
        "id": "wyBO5EbvrkOC",
        "outputId": "a9d2bec9-3f6f-45f8-b035-75aaefcb5289"
      },
      "execution_count": null,
      "outputs": [
        {
          "output_type": "display_data",
          "data": {
            "text/plain": [
              "<Figure size 640x480 with 2 Axes>"
            ],
            "image/png": "[encoded data removed]"
          },
          "metadata": {}
        }
      ]
    },
    {
      "cell_type": "code",
      "source": [
        "sns.boxplot(x='day_of_the_week', y='delivery_time', data=orderdata)\n",
        "plt.xticks(rotation=90)"
      ],
      "metadata": {
        "colab": {
          "base_uri": "https://localhost:8080/",
          "height": 516
        },
        "id": "oxZCiXyT_JM-",
        "outputId": "76cc82f3-86e6-45ff-d540-b92d4445608b"
      },
      "execution_count": null,
      "outputs": [
        {
          "output_type": "execute_result",
          "data": {
            "text/plain": [
              "([0, 1], [Text(0, 0, 'Weekend'), Text(1, 0, 'Weekday')])"
            ]
          },
          "metadata": {},
          "execution_count": 216
        },
        {
          "output_type": "display_data",
          "data": {
            "text/plain": [
              "<Figure size 640x480 with 1 Axes>"
            ],
            "image/png": "[encoded data removed]"
          },
          "metadata": {}
        }
      ]
    },
    {
      "cell_type": "markdown",
      "source": [
        "#####**Observation**:\n",
        "There are not a lot of strong correlations among the variables. There is some correlation between delivery time and day of week."
      ],
      "metadata": {
        "id": "MBRtMr9_wMP0"
      }
    },
    {
      "cell_type": "markdown",
      "metadata": {
        "id": "YLkMf09YJY_V"
      },
      "source": [
        "### **Question 13:** The company wants to provide a promotional offer in the advertisement of the restaurants. The condition to get the offer is that the restaurants must have a rating count of more than 50 and the average rating should be greater than 4. Find the restaurants fulfilling the criteria to get the promotional offer. [3 marks]"
      ]
    },
    {
      "cell_type": "code",
      "execution_count": null,
      "metadata": {
        "colab": {
          "base_uri": "https://localhost:8080/"
        },
        "id": "0M_QDvbYJY_V",
        "outputId": "db3abbed-87b0-47cd-8bb1-d4af82983220"
      },
      "outputs": [
        {
          "output_type": "stream",
          "name": "stdout",
          "text": [
            "<class 'pandas.core.frame.DataFrame'>\n",
            "RangeIndex: 1898 entries, 0 to 1897\n",
            "Data columns (total 11 columns):\n",
            " #   Column                 Non-Null Count  Dtype  \n",
            "---  ------                 --------------  -----  \n",
            " 0   order_id               1898 non-null   object \n",
            " 1   customer_id            1898 non-null   object \n",
            " 2   restaurant_name        1898 non-null   object \n",
            " 3   cuisine_type           1898 non-null   object \n",
            " 4   cost_of_the_order      1898 non-null   float64\n",
            " 5   day_of_the_week        1898 non-null   object \n",
            " 6   rating                 1162 non-null   float64\n",
            " 7   food_preparation_time  1898 non-null   int64  \n",
            " 8   delivery_time          1898 non-null   int64  \n",
            " 9   day_of_week_bool       1898 non-null   bool   \n",
            " 10  rating_converted       1898 non-null   float64\n",
            "dtypes: bool(1), float64(3), int64(2), object(5)\n",
            "memory usage: 150.3+ KB\n"
          ]
        }
      ],
      "source": [
        "# Write the code here\n",
        "# Group by 'restaurant_name', count 'order_id' and calculate mean 'rating'\n",
        "# Let's convert the zeros back to nan so we don't skew the data by giving\n",
        "# restaurants falsely low ratings\n",
        "orderdata['rating'] =orderdata['rating'].replace(0, np.nan)\n",
        "\n",
        "orderdata.info()\n",
        "#note that we now have 1162 non-null ratings"
      ]
    },
    {
      "cell_type": "code",
      "execution_count": null,
      "metadata": {
        "colab": {
          "base_uri": "https://localhost:8080/"
        },
        "id": "M9yIm3dkKSRZ",
        "outputId": "8588feb3-aba4-4659-c20a-387f4ad9b7bc"
      },
      "outputs": [
        {
          "output_type": "stream",
          "name": "stdout",
          "text": [
            "                           rating_count  rating_mean\n",
            "restaurant_name                                     \n",
            "Blue Ribbon Fried Chicken            64     4.328125\n",
            "Blue Ribbon Sushi                    73     4.219178\n",
            "Shake Shack                         133     4.278195\n",
            "The Meatball Shop                    84     4.511905\n"
          ]
        }
      ],
      "source": [
        "# Sort the filtered DataFrame by 'rating' in descending order\n",
        "restaurant_ratings = orderdata.groupby('restaurant_name').agg({\n",
        "    'rating': ['count', 'mean']\n",
        "})\n",
        "restaurant_ratings.columns = ['rating_count', 'rating_mean']\n",
        "\n",
        "# Filter restaurants with more than 50 ratings and an average rating greater than 4\n",
        "filtered_restaurants = restaurant_ratings[(restaurant_ratings['rating_count'] > 50) &\n",
        "                                          (restaurant_ratings['rating_mean'] > 4)]\n",
        "print(filtered_restaurants)\n"
      ]
    },
    {
      "cell_type": "markdown",
      "metadata": {
        "id": "10uryUMhJY_V"
      },
      "source": [
        "#### **Observations:**\n",
        "\n",
        "Restaurants that fulfill the requirements are:\n",
        "\n",
        "Blue Ribbon Fried Chicken           \n",
        "\n",
        "Blue Ribbon Sushi                   \n",
        "\n",
        "Shake Shack                        \n",
        "\n",
        "The Meatball Shop                   \n"
      ]
    },
    {
      "cell_type": "markdown",
      "metadata": {
        "id": "1gvWBkRUJY_V"
      },
      "source": [
        "### **Question 14:** The company charges the restaurant 25% on the orders having cost greater than 20 dollars and 15% on the orders having cost greater than 5 dollars. Find the net revenue generated by the company across all orders. [3 marks]"
      ]
    },
    {
      "cell_type": "code",
      "execution_count": null,
      "metadata": {
        "colab": {
          "base_uri": "https://localhost:8080/",
          "height": 363
        },
        "id": "rEjbnTNEJY_W",
        "outputId": "35eb84ac-d933-4440-e3f9-a079bc525569",
        "collapsed": true
      },
      "outputs": [
        {
          "output_type": "execute_result",
          "data": {
            "text/plain": [
              "  order_id customer_id            restaurant_name   cuisine_type  \\\n",
              "0  1477147      337525                    Hangawi         Korean   \n",
              "1  1477685      358141  Blue Ribbon Sushi Izakaya       Japanese   \n",
              "2  1477070       66393                Cafe Habana        Mexican   \n",
              "3  1477334      106968  Blue Ribbon Fried Chicken       American   \n",
              "4  1478249       76942           Dirty Bird to Go       American   \n",
              "5  1477224      147468           Tamarind TriBeCa         Indian   \n",
              "6  1477894      157711          The Meatball Shop        Italian   \n",
              "7  1477859       89574                  Barbounia  Mediterranean   \n",
              "8  1477174      121706         Anjappar Chettinad         Indian   \n",
              "9  1477311       39705              Bukhara Grill         Indian   \n",
              "\n",
              "   cost_of_the_order day_of_the_week  rating  food_preparation_time  \\\n",
              "0              30.75         Weekend     NaN                     25   \n",
              "1              12.08         Weekend     NaN                     25   \n",
              "2              12.23         Weekday     5.0                     23   \n",
              "3              29.20         Weekend     3.0                     25   \n",
              "4              11.59         Weekday     4.0                     25   \n",
              "5              25.22         Weekday     3.0                     20   \n",
              "6               6.07         Weekend     NaN                     28   \n",
              "7               5.97         Weekday     3.0                     33   \n",
              "8              16.44         Weekday     5.0                     21   \n",
              "9               7.18         Weekday     5.0                     29   \n",
              "\n",
              "   delivery_time  day_of_week_bool  rating_converted  revenue  \n",
              "0             20              True               0.0   7.6875  \n",
              "1             23              True               0.0   1.8120  \n",
              "2             28             False               5.0   1.8345  \n",
              "3             15              True               3.0   7.3000  \n",
              "4             24             False               4.0   1.7385  \n",
              "5             24             False               3.0   6.3050  \n",
              "6             21              True               0.0   0.9105  \n",
              "7             30             False               3.0   0.8955  \n",
              "8             26             False               5.0   2.4660  \n",
              "9             26             False               5.0   1.0770  "
            ],
            "text/html": [
              "\n",
              "  <div id=\"df-81e1725a-d362-4b9b-b3ac-16b6b16251fa\" class=\"colab-df-container\">\n",
              "    <div>\n",
              "<style scoped>\n",
              "    .dataframe tbody tr th:only-of-type {\n",
              "        vertical-align: middle;\n",
              "    }\n",
              "\n",
              "    .dataframe tbody tr th {\n",
              "        vertical-align: top;\n",
              "    }\n",
              "\n",
              "    .dataframe thead th {\n",
              "        text-align: right;\n",
              "    }\n",
              "</style>\n",
              "<table border=\"1\" class=\"dataframe\">\n",
              "  <thead>\n",
              "    <tr style=\"text-align: right;\">\n",
              "      <th></th>\n",
              "      <th>order_id</th>\n",
              "      <th>customer_id</th>\n",
              "      <th>restaurant_name</th>\n",
              "      <th>cuisine_type</th>\n",
              "      <th>cost_of_the_order</th>\n",
              "      <th>day_of_the_week</th>\n",
              "      <th>rating</th>\n",
              "      <th>food_preparation_time</th>\n",
              "      <th>delivery_time</th>\n",
              "      <th>day_of_week_bool</th>\n",
              "      <th>rating_converted</th>\n",
              "      <th>revenue</th>\n",
              "    </tr>\n",
              "  </thead>\n",
              "  <tbody>\n",
              "    <tr>\n",
              "      <th>0</th>\n",
              "      <td>1477147</td>\n",
              "      <td>337525</td>\n",
              "      <td>Hangawi</td>\n",
              "      <td>Korean</td>\n",
              "      <td>30.75</td>\n",
              "      <td>Weekend</td>\n",
              "      <td>NaN</td>\n",
              "      <td>25</td>\n",
              "      <td>20</td>\n",
              "      <td>True</td>\n",
              "      <td>0.0</td>\n",
              "      <td>7.6875</td>\n",
              "    </tr>\n",
              "    <tr>\n",
              "      <th>1</th>\n",
              "      <td>1477685</td>\n",
              "      <td>358141</td>\n",
              "      <td>Blue Ribbon Sushi Izakaya</td>\n",
              "      <td>Japanese</td>\n",
              "      <td>12.08</td>\n",
              "      <td>Weekend</td>\n",
              "      <td>NaN</td>\n",
              "      <td>25</td>\n",
              "      <td>23</td>\n",
              "      <td>True</td>\n",
              "      <td>0.0</td>\n",
              "      <td>1.8120</td>\n",
              "    </tr>\n",
              "    <tr>\n",
              "      <th>2</th>\n",
              "      <td>1477070</td>\n",
              "      <td>66393</td>\n",
              "      <td>Cafe Habana</td>\n",
              "      <td>Mexican</td>\n",
              "      <td>12.23</td>\n",
              "      <td>Weekday</td>\n",
              "      <td>5.0</td>\n",
              "      <td>23</td>\n",
              "      <td>28</td>\n",
              "      <td>False</td>\n",
              "      <td>5.0</td>\n",
              "      <td>1.8345</td>\n",
              "    </tr>\n",
              "    <tr>\n",
              "      <th>3</th>\n",
              "      <td>1477334</td>\n",
              "      <td>106968</td>\n",
              "      <td>Blue Ribbon Fried Chicken</td>\n",
              "      <td>American</td>\n",
              "      <td>29.20</td>\n",
              "      <td>Weekend</td>\n",
              "      <td>3.0</td>\n",
              "      <td>25</td>\n",
              "      <td>15</td>\n",
              "      <td>True</td>\n",
              "      <td>3.0</td>\n",
              "      <td>7.3000</td>\n",
              "    </tr>\n",
              "    <tr>\n",
              "      <th>4</th>\n",
              "      <td>1478249</td>\n",
              "      <td>76942</td>\n",
              "      <td>Dirty Bird to Go</td>\n",
              "      <td>American</td>\n",
              "      <td>11.59</td>\n",
              "      <td>Weekday</td>\n",
              "      <td>4.0</td>\n",
              "      <td>25</td>\n",
              "      <td>24</td>\n",
              "      <td>False</td>\n",
              "      <td>4.0</td>\n",
              "      <td>1.7385</td>\n",
              "    </tr>\n",
              "    <tr>\n",
              "      <th>5</th>\n",
              "      <td>1477224</td>\n",
              "      <td>147468</td>\n",
              "      <td>Tamarind TriBeCa</td>\n",
              "      <td>Indian</td>\n",
              "      <td>25.22</td>\n",
              "      <td>Weekday</td>\n",
              "      <td>3.0</td>\n",
              "      <td>20</td>\n",
              "      <td>24</td>\n",
              "      <td>False</td>\n",
              "      <td>3.0</td>\n",
              "      <td>6.3050</td>\n",
              "    </tr>\n",
              "    <tr>\n",
              "      <th>6</th>\n",
              "      <td>1477894</td>\n",
              "      <td>157711</td>\n",
              "      <td>The Meatball Shop</td>\n",
              "      <td>Italian</td>\n",
              "      <td>6.07</td>\n",
              "      <td>Weekend</td>\n",
              "      <td>NaN</td>\n",
              "      <td>28</td>\n",
              "      <td>21</td>\n",
              "      <td>True</td>\n",
              "      <td>0.0</td>\n",
              "      <td>0.9105</td>\n",
              "    </tr>\n",
              "    <tr>\n",
              "      <th>7</th>\n",
              "      <td>1477859</td>\n",
              "      <td>89574</td>\n",
              "      <td>Barbounia</td>\n",
              "      <td>Mediterranean</td>\n",
              "      <td>5.97</td>\n",
              "      <td>Weekday</td>\n",
              "      <td>3.0</td>\n",
              "      <td>33</td>\n",
              "      <td>30</td>\n",
              "      <td>False</td>\n",
              "      <td>3.0</td>\n",
              "      <td>0.8955</td>\n",
              "    </tr>\n",
              "    <tr>\n",
              "      <th>8</th>\n",
              "      <td>1477174</td>\n",
              "      <td>121706</td>\n",
              "      <td>Anjappar Chettinad</td>\n",
              "      <td>Indian</td>\n",
              "      <td>16.44</td>\n",
              "      <td>Weekday</td>\n",
              "      <td>5.0</td>\n",
              "      <td>21</td>\n",
              "      <td>26</td>\n",
              "      <td>False</td>\n",
              "      <td>5.0</td>\n",
              "      <td>2.4660</td>\n",
              "    </tr>\n",
              "    <tr>\n",
              "      <th>9</th>\n",
              "      <td>1477311</td>\n",
              "      <td>39705</td>\n",
              "      <td>Bukhara Grill</td>\n",
              "      <td>Indian</td>\n",
              "      <td>7.18</td>\n",
              "      <td>Weekday</td>\n",
              "      <td>5.0</td>\n",
              "      <td>29</td>\n",
              "      <td>26</td>\n",
              "      <td>False</td>\n",
              "      <td>5.0</td>\n",
              "      <td>1.0770</td>\n",
              "    </tr>\n",
              "  </tbody>\n",
              "</table>\n",
              "</div>\n",
              "    <div class=\"colab-df-buttons\">\n",
              "\n",
              "  <div class=\"colab-df-container\">\n",
              "    <button class=\"colab-df-convert\" onclick=\"convertToInteractive('df-81e1725a-d362-4b9b-b3ac-16b6b16251fa')\"\n",
              "            title=\"Convert this dataframe to an interactive table.\"\n",
              "            style=\"display:none;\">\n",
              "\n",
              "  <svg xmlns=\"http://www.w3.org/2000/svg\" height=\"24px\" viewBox=\"0 -960 960 960\">\n",
              "    <path d=\"M120-120v-720h720v720H120Zm60-500h600v-160H180v160Zm220 220h160v-160H400v160Zm0 220h160v-160H400v160ZM180-400h160v-160H180v160Zm440 0h160v-160H620v160ZM180-180h160v-160H180v160Zm440 0h160v-160H620v160Z\"/>\n",
              "  </svg>\n",
              "    </button>\n",
              "\n",
              "  <style>\n",
              "    .colab-df-container {\n",
              "      display:flex;\n",
              "      gap: 12px;\n",
              "    }\n",
              "\n",
              "    .colab-df-convert {\n",
              "      background-color: #E8F0FE;\n",
              "      border: none;\n",
              "      border-radius: 50%;\n",
              "      cursor: pointer;\n",
              "      display: none;\n",
              "      fill: #1967D2;\n",
              "      height: 32px;\n",
              "      padding: 0 0 0 0;\n",
              "      width: 32px;\n",
              "    }\n",
              "\n",
              "    .colab-df-convert:hover {\n",
              "      background-color: #E2EBFA;\n",
              "      box-shadow: 0px 1px 2px rgba(60, 64, 67, 0.3), 0px 1px 3px 1px rgba(60, 64, 67, 0.15);\n",
              "      fill: #174EA6;\n",
              "    }\n",
              "\n",
              "    .colab-df-buttons div {\n",
              "      margin-bottom: 4px;\n",
              "    }\n",
              "\n",
              "    [theme=dark] .colab-df-convert {\n",
              "      background-color: #3B4455;\n",
              "      fill: #D2E3FC;\n",
              "    }\n",
              "\n",
              "    [theme=dark] .colab-df-convert:hover {\n",
              "      background-color: #434B5C;\n",
              "      box-shadow: 0px 1px 3px 1px rgba(0, 0, 0, 0.15);\n",
              "      filter: drop-shadow(0px 1px 2px rgba(0, 0, 0, 0.3));\n",
              "      fill: #FFFFFF;\n",
              "    }\n",
              "  </style>\n",
              "\n",
              "    <script>\n",
              "      const buttonEl =\n",
              "        document.querySelector('#df-81e1725a-d362-4b9b-b3ac-16b6b16251fa button.colab-df-convert');\n",
              "      buttonEl.style.display =\n",
              "        google.colab.kernel.accessAllowed ? 'block' : 'none';\n",
              "\n",
              "      async function convertToInteractive(key) {\n",
              "        const element = document.querySelector('#df-81e1725a-d362-4b9b-b3ac-16b6b16251fa');\n",
              "        const dataTable =\n",
              "          await google.colab.kernel.invokeFunction('convertToInteractive',\n",
              "                                                    [key], {});\n",
              "        if (!dataTable) return;\n",
              "\n",
              "        const docLinkHtml = 'Like what you see? Visit the ' +\n",
              "          '<a target=\"_blank\" href=https://colab.research.google.com/notebooks/data_table.ipynb>data table notebook</a>'\n",
              "          + ' to learn more about interactive tables.';\n",
              "        element.innerHTML = '';\n",
              "        dataTable['output_type'] = 'display_data';\n",
              "        await google.colab.output.renderOutput(dataTable, element);\n",
              "        const docLink = document.createElement('div');\n",
              "        docLink.innerHTML = docLinkHtml;\n",
              "        element.appendChild(docLink);\n",
              "      }\n",
              "    </script>\n",
              "  </div>\n",
              "\n",
              "\n",
              "<div id=\"df-d49ce2dd-9818-4264-9064-6abaaa2a0d80\">\n",
              "  <button class=\"colab-df-quickchart\" onclick=\"quickchart('df-d49ce2dd-9818-4264-9064-6abaaa2a0d80')\"\n",
              "            title=\"Suggest charts\"\n",
              "            style=\"display:none;\">\n",
              "\n",
              "<svg xmlns=\"http://www.w3.org/2000/svg\" height=\"24px\"viewBox=\"0 0 24 24\"\n",
              "     width=\"24px\">\n",
              "    <g>\n",
              "        <path d=\"M19 3H5c-1.1 0-2 .9-2 2v14c0 1.1.9 2 2 2h14c1.1 0 2-.9 2-2V5c0-1.1-.9-2-2-2zM9 17H7v-7h2v7zm4 0h-2V7h2v10zm4 0h-2v-4h2v4z\"/>\n",
              "    </g>\n",
              "</svg>\n",
              "  </button>\n",
              "\n",
              "<style>\n",
              "  .colab-df-quickchart {\n",
              "      --bg-color: #E8F0FE;\n",
              "      --fill-color: #1967D2;\n",
              "      --hover-bg-color: #E2EBFA;\n",
              "      --hover-fill-color: #174EA6;\n",
              "      --disabled-fill-color: #AAA;\n",
              "      --disabled-bg-color: #DDD;\n",
              "  }\n",
              "\n",
              "  [theme=dark] .colab-df-quickchart {\n",
              "      --bg-color: #3B4455;\n",
              "      --fill-color: #D2E3FC;\n",
              "      --hover-bg-color: #434B5C;\n",
              "      --hover-fill-color: #FFFFFF;\n",
              "      --disabled-bg-color: #3B4455;\n",
              "      --disabled-fill-color: #666;\n",
              "  }\n",
              "\n",
              "  .colab-df-quickchart {\n",
              "    background-color: var(--bg-color);\n",
              "    border: none;\n",
              "    border-radius: 50%;\n",
              "    cursor: pointer;\n",
              "    display: none;\n",
              "    fill: var(--fill-color);\n",
              "    height: 32px;\n",
              "    padding: 0;\n",
              "    width: 32px;\n",
              "  }\n",
              "\n",
              "  .colab-df-quickchart:hover {\n",
              "    background-color: var(--hover-bg-color);\n",
              "    box-shadow: 0 1px 2px rgba(60, 64, 67, 0.3), 0 1px 3px 1px rgba(60, 64, 67, 0.15);\n",
              "    fill: var(--button-hover-fill-color);\n",
              "  }\n",
              "\n",
              "  .colab-df-quickchart-complete:disabled,\n",
              "  .colab-df-quickchart-complete:disabled:hover {\n",
              "    background-color: var(--disabled-bg-color);\n",
              "    fill: var(--disabled-fill-color);\n",
              "    box-shadow: none;\n",
              "  }\n",
              "\n",
              "  .colab-df-spinner {\n",
              "    border: 2px solid var(--fill-color);\n",
              "    border-color: transparent;\n",
              "    border-bottom-color: var(--fill-color);\n",
              "    animation:\n",
              "      spin 1s steps(1) infinite;\n",
              "  }\n",
              "\n",
              "  @keyframes spin {\n",
              "    0% {\n",
              "      border-color: transparent;\n",
              "      border-bottom-color: var(--fill-color);\n",
              "      border-left-color: var(--fill-color);\n",
              "    }\n",
              "    20% {\n",
              "      border-color: transparent;\n",
              "      border-left-color: var(--fill-color);\n",
              "      border-top-color: var(--fill-color);\n",
              "    }\n",
              "    30% {\n",
              "      border-color: transparent;\n",
              "      border-left-color: var(--fill-color);\n",
              "      border-top-color: var(--fill-color);\n",
              "      border-right-color: var(--fill-color);\n",
              "    }\n",
              "    40% {\n",
              "      border-color: transparent;\n",
              "      border-right-color: var(--fill-color);\n",
              "      border-top-color: var(--fill-color);\n",
              "    }\n",
              "    60% {\n",
              "      border-color: transparent;\n",
              "      border-right-color: var(--fill-color);\n",
              "    }\n",
              "    80% {\n",
              "      border-color: transparent;\n",
              "      border-right-color: var(--fill-color);\n",
              "      border-bottom-color: var(--fill-color);\n",
              "    }\n",
              "    90% {\n",
              "      border-color: transparent;\n",
              "      border-bottom-color: var(--fill-color);\n",
              "    }\n",
              "  }\n",
              "</style>\n",
              "\n",
              "  <script>\n",
              "    async function quickchart(key) {\n",
              "      const quickchartButtonEl =\n",
              "        document.querySelector('#' + key + ' button');\n",
              "      quickchartButtonEl.disabled = true;  // To prevent multiple clicks.\n",
              "      quickchartButtonEl.classList.add('colab-df-spinner');\n",
              "      try {\n",
              "        const charts = await google.colab.kernel.invokeFunction(\n",
              "            'suggestCharts', [key], {});\n",
              "      } catch (error) {\n",
              "        console.error('Error during call to suggestCharts:', error);\n",
              "      }\n",
              "      quickchartButtonEl.classList.remove('colab-df-spinner');\n",
              "      quickchartButtonEl.classList.add('colab-df-quickchart-complete');\n",
              "    }\n",
              "    (() => {\n",
              "      let quickchartButtonEl =\n",
              "        document.querySelector('#df-d49ce2dd-9818-4264-9064-6abaaa2a0d80 button');\n",
              "      quickchartButtonEl.style.display =\n",
              "        google.colab.kernel.accessAllowed ? 'block' : 'none';\n",
              "    })();\n",
              "  </script>\n",
              "</div>\n",
              "\n",
              "    </div>\n",
              "  </div>\n"
            ],
            "application/vnd.google.colaboratory.intrinsic+json": {
              "type": "dataframe",
              "variable_name": "orderdata",
              "summary": "{\n  \"name\": \"orderdata\",\n  \"rows\": 1898,\n  \"fields\": [\n    {\n      \"column\": \"order_id\",\n      \"properties\": {\n        \"dtype\": \"string\",\n        \"num_unique_values\": 1898,\n        \"samples\": [\n          \"1477722\",\n          \"1478319\",\n          \"1477650\"\n        ],\n        \"semantic_type\": \"\",\n        \"description\": \"\"\n      }\n    },\n    {\n      \"column\": \"customer_id\",\n      \"properties\": {\n        \"dtype\": \"string\",\n        \"num_unique_values\": 1200,\n        \"samples\": [\n          \"351329\",\n          \"49987\",\n          \"345899\"\n        ],\n        \"semantic_type\": \"\",\n        \"description\": \"\"\n      }\n    },\n    {\n      \"column\": \"restaurant_name\",\n      \"properties\": {\n        \"dtype\": \"category\",\n        \"num_unique_values\": 178,\n        \"samples\": [\n          \"Tortaria\",\n          \"Osteria Morini\",\n          \"Philippe Chow\"\n        ],\n        \"semantic_type\": \"\",\n        \"description\": \"\"\n      }\n    },\n    {\n      \"column\": \"cuisine_type\",\n      \"properties\": {\n        \"dtype\": \"category\",\n        \"num_unique_values\": 14,\n        \"samples\": [\n          \"Thai\",\n          \"French\",\n          \"Korean\"\n        ],\n        \"semantic_type\": \"\",\n        \"description\": \"\"\n      }\n    },\n    {\n      \"column\": \"cost_of_the_order\",\n      \"properties\": {\n        \"dtype\": \"number\",\n        \"std\": 7.48381211004957,\n        \"min\": 4.47,\n        \"max\": 35.41,\n        \"num_unique_values\": 312,\n        \"samples\": [\n          21.29,\n          7.18,\n          13.34\n        ],\n        \"semantic_type\": \"\",\n        \"description\": \"\"\n      }\n    },\n    {\n      \"column\": \"day_of_the_week\",\n      \"properties\": {\n        \"dtype\": \"category\",\n        \"num_unique_values\": 2,\n        \"samples\": [\n          \"Weekday\",\n          \"Weekend\"\n        ],\n        \"semantic_type\": \"\",\n        \"description\": \"\"\n      }\n    },\n    {\n      \"column\": \"rating\",\n      \"properties\": {\n        \"dtype\": \"number\",\n        \"std\": 0.7414783567985952,\n        \"min\": 3.0,\n        \"max\": 5.0,\n        \"num_unique_values\": 3,\n        \"samples\": [\n          5.0,\n          3.0\n        ],\n        \"semantic_type\": \"\",\n        \"description\": \"\"\n      }\n    },\n    {\n      \"column\": \"food_preparation_time\",\n      \"properties\": {\n        \"dtype\": \"number\",\n        \"std\": 4,\n        \"min\": 20,\n        \"max\": 35,\n        \"num_unique_values\": 16,\n        \"samples\": [\n          25,\n          23\n        ],\n        \"semantic_type\": \"\",\n        \"description\": \"\"\n      }\n    },\n    {\n      \"column\": \"delivery_time\",\n      \"properties\": {\n        \"dtype\": \"number\",\n        \"std\": 4,\n        \"min\": 15,\n        \"max\": 33,\n        \"num_unique_values\": 19,\n        \"samples\": [\n          20,\n          21\n        ],\n        \"semantic_type\": \"\",\n        \"description\": \"\"\n      }\n    },\n    {\n      \"column\": \"day_of_week_bool\",\n      \"properties\": {\n        \"dtype\": \"boolean\",\n        \"num_unique_values\": 2,\n        \"samples\": [\n          false,\n          true\n        ],\n        \"semantic_type\": \"\",\n        \"description\": \"\"\n      }\n    },\n    {\n      \"column\": \"rating_converted\",\n      \"properties\": {\n        \"dtype\": \"number\",\n        \"std\": 2.195280383034133,\n        \"min\": 0.0,\n        \"max\": 5.0,\n        \"num_unique_values\": 4,\n        \"samples\": [\n          5.0,\n          4.0\n        ],\n        \"semantic_type\": \"\",\n        \"description\": \"\"\n      }\n    },\n    {\n      \"column\": \"revenue\",\n      \"properties\": {\n        \"dtype\": \"number\",\n        \"std\": 2.295598285490861,\n        \"min\": 0.0,\n        \"max\": 8.8525,\n        \"num_unique_values\": 306,\n        \"samples\": [\n          1.1415,\n          2.3355\n        ],\n        \"semantic_type\": \"\",\n        \"description\": \"\"\n      }\n    }\n  ]\n}"
            }
          },
          "metadata": {},
          "execution_count": 219
        }
      ],
      "source": [
        "#apply a 25% charge if order is over $20 and 15% charge if order is over $5 but less than $20\n",
        "orderdata['revenue']= orderdata['cost_of_the_order'].apply(lambda cost: cost * 0.25 if cost > 20 else (cost * 0.15 if cost > 5 else 0))\n",
        "#check calculations\n",
        "orderdata.head(10)"
      ]
    },
    {
      "cell_type": "code",
      "execution_count": null,
      "metadata": {
        "colab": {
          "base_uri": "https://localhost:8080/"
        },
        "id": "n6kiubRVR5cH",
        "outputId": "c27721f7-2c7c-4bd5-ed94-50f9e46dcebb"
      },
      "outputs": [
        {
          "output_type": "stream",
          "name": "stdout",
          "text": [
            "6166.303\n"
          ]
        }
      ],
      "source": [
        "print(orderdata['revenue'].sum())"
      ]
    },
    {
      "cell_type": "code",
      "source": [
        "print(orderdata['revenue'].groupby(orderdata['cuisine_type']).sum())"
      ],
      "metadata": {
        "colab": {
          "base_uri": "https://localhost:8080/"
        },
        "id": "e9jmRHW-rhVi",
        "outputId": "ad87b554-d498-4cc2-a6e7-bee060c4966b"
      },
      "execution_count": null,
      "outputs": [
        {
          "output_type": "stream",
          "name": "stdout",
          "text": [
            "cuisine_type\n",
            "American          1878.2740\n",
            "Chinese            690.0405\n",
            "French              76.1925\n",
            "Indian             246.9940\n",
            "Italian            966.8845\n",
            "Japanese          1478.2445\n",
            "Korean              33.3030\n",
            "Mediterranean      136.3280\n",
            "Mexican            256.6930\n",
            "Middle Eastern     193.5535\n",
            "Southern            68.7535\n",
            "Spanish             47.2365\n",
            "Thai                78.0525\n",
            "Vietnamese          15.7530\n",
            "Name: revenue, dtype: float64\n"
          ]
        }
      ]
    },
    {
      "cell_type": "markdown",
      "metadata": {
        "id": "XHCEJgH0JY_W"
      },
      "source": [
        "#### **Observations**:\n",
        "Total revenue is $6166.30\n"
      ]
    },
    {
      "cell_type": "markdown",
      "metadata": {
        "id": "pRlVW-oeJY_W"
      },
      "source": [
        "### **Question 15:** The company wants to analyze the total time required to deliver the food. What percentage of orders take more than 60 minutes to get delivered from the time the order is placed? (The food has to be prepared and then delivered.) [2 marks]"
      ]
    },
    {
      "cell_type": "code",
      "execution_count": null,
      "metadata": {
        "id": "zxoTrxfLJY_W"
      },
      "outputs": [],
      "source": [
        "# Add prep time to delivery time to create a new column for total time. Then get the shape.\n",
        "orderdata['total_time'] = orderdata['food_preparation_time']+orderdata['delivery_time']\n",
        "orders_over_60_minutes = orderdata[orderdata['total_time']>60].shape[0]\n"
      ]
    },
    {
      "cell_type": "code",
      "source": [
        "print(f\"{orders_over_60_minutes / total_orders:.2%}\")"
      ],
      "metadata": {
        "colab": {
          "base_uri": "https://localhost:8080/"
        },
        "id": "0clPAudW6nbd",
        "outputId": "074beb88-0929-462d-afec-21d5756fb758"
      },
      "execution_count": null,
      "outputs": [
        {
          "output_type": "stream",
          "name": "stdout",
          "text": [
            "10.54%\n"
          ]
        }
      ]
    },
    {
      "cell_type": "markdown",
      "metadata": {
        "id": "iqzBXn2yJY_W"
      },
      "source": [
        "#### **Observations:**\n",
        "10.54% of the orders have a total time to be delivered greater than 60 minutes.\n"
      ]
    },
    {
      "cell_type": "markdown",
      "metadata": {
        "id": "bUd6cYpPJY_W"
      },
      "source": [
        "### **Question 16:** The company wants to analyze the delivery time of the orders on weekdays and weekends. How does the mean delivery time vary during weekdays and weekends? [2 marks]"
      ]
    },
    {
      "cell_type": "code",
      "execution_count": null,
      "metadata": {
        "colab": {
          "base_uri": "https://localhost:8080/"
        },
        "id": "pIU5xZZ6JY_W",
        "outputId": "791c14a6-93e0-4a98-db73-32d2febc9255"
      },
      "outputs": [
        {
          "output_type": "execute_result",
          "data": {
            "text/plain": [
              "day_of_the_week\n",
              "Weekday    28.340037\n",
              "Weekend    22.470022\n",
              "Name: delivery_time, dtype: float64"
            ]
          },
          "metadata": {},
          "execution_count": 224
        }
      ],
      "source": [
        "# Write the code here\n",
        "orderdata.groupby(['day_of_the_week'])['delivery_time'].mean()"
      ]
    },
    {
      "cell_type": "markdown",
      "metadata": {
        "id": "8H-ODxbVJY_W"
      },
      "source": [
        "#### **Observations**:\n",
        "Weekday deliveries average approximately 28.3 minutes while weekend deliveries average 22.5 minutes."
      ]
    },
    {
      "cell_type": "markdown",
      "metadata": {
        "id": "17roJywaJY_W"
      },
      "source": [
        "### Conclusion and Recommendations"
      ]
    },
    {
      "cell_type": "markdown",
      "metadata": {
        "id": "ZdX2Wz4FJY_W"
      },
      "source": [
        "### **Question 17:** What are your conclusions from the analysis? What recommendations would you like to share to help improve the business? (You can use cuisine type and feedback ratings to drive your business recommendations.) [6 marks]"
      ]
    },
    {
      "cell_type": "markdown",
      "metadata": {
        "id": "VTugVsL4Ddz-"
      },
      "source": [
        "## **Conclusions**:\n",
        "*  People who use this service tend to gravitate towards less expensive American food. A close second in popularity is Japanese food.\n",
        "*  There is a longer delivery time on weekdays than weekends.\n",
        "*  There is a higher order volume on weekends.\n",
        "*  The rating data was not very meaningful or useful in the analysis."
      ]
    },
    {
      "cell_type": "markdown",
      "metadata": {
        "id": "PWnsI0i_guWJ"
      },
      "source": [
        "## **Recommendations:**\n",
        "\n",
        "*  The business should look at the cause of the longer delivery times on weekdays and see what they can do to lower those times, whether that be hiring more drivers or finding more efficient ways to deliver.\n",
        "*  Offer incentives to try something new, like Mediterranean or Thai with larger order costs to earn the higher revenue percentage and increase revenue.\n",
        "*  Weekdays do not see as high a volume of sales as weekends. It may be worth exploring incentives or specials to boost weekday sales.\n",
        "*  The business should try to gather more meaningful rating data so that it can more reliably explore the relationship between customer satisfaction and other variables like cost and delivery time. You could do this by offering coupons or other incentives for giving a rating."
      ]
    },
    {
      "cell_type": "markdown",
      "metadata": {
        "id": "tSoucKKbg9Hc"
      },
      "source": [
        "---"
      ]
    }
  ],
  "metadata": {
    "colab": {
      "provenance": [],
      "include_colab_link": true
    },
    "kernelspec": {
      "display_name": "Python 3 (ipykernel)",
      "language": "python",
      "name": "python3"
    },
    "language_info": {
      "codemirror_mode": {
        "name": "ipython",
        "version": 3
      },
      "file_extension": ".py",
      "mimetype": "text/x-python",
      "name": "python",
      "nbconvert_exporter": "python",
      "pygments_lexer": "ipython3",
      "version": "3.8.12"
    }
  },
  "nbformat": 4,
  "nbformat_minor": 0
}